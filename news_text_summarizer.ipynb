{
  "nbformat": 4,
  "nbformat_minor": 0,
  "metadata": {
    "colab": {
      "provenance": [],
      "collapsed_sections": [],
      "authorship_tag": "ABX9TyP0pIRiPV7fyNXUwcQPfOM6",
      "include_colab_link": true
    },
    "kernelspec": {
      "name": "python3",
      "display_name": "Python 3"
    },
    "language_info": {
      "name": "python"
    }
  },
  "cells": [
    {
      "cell_type": "markdown",
      "metadata": {
        "id": "view-in-github",
        "colab_type": "text"
      },
      "source": [
        "<a href=\"https://colab.research.google.com/github/AnasuyaDutta1412/AnasuyaDutta1412/blob/main/news_text_summarizer.ipynb\" target=\"_parent\"><img src=\"https://colab.research.google.com/assets/colab-badge.svg\" alt=\"Open In Colab\"/></a>"
      ]
    },
    {
      "cell_type": "code",
      "execution_count": 20,
      "metadata": {
        "id": "LuyPDYW5CMyx"
      },
      "outputs": [],
      "source": [
        "news_text=\"\"\"The Chrysler Building, the famous art deco New York skyscraper, will be sold for a small fraction of its previous sales price.\n",
        "The deal, first reported by The Real Deal, was for $150 million, according to a source familiar with the deal.\n",
        "Mubadala, an Abu Dhabi investment fund, purchased 90% of the building for $800 million in 2008.\n",
        "Real estate firm Tishman Speyer had owned the other 10%.\n",
        "The buyer is RFR Holding, a New York real estate company.\n",
        "Officials with Tishman and RFR did not immediately respond to a request for comments.\n",
        "It's unclear when the deal will close.\n",
        "The building sold fairly quickly after being publicly placed on the market only two months ago.\n",
        "The sale was handled by CBRE Group.\n",
        "The incentive to sell the building at such a huge loss was due to the soaring rent the owners pay to Cooper Union, a New York college, for the land under the building.\n",
        "The rent is rising from $7.75 million last year to $32.5 million this year to $41 million in 2028.\n",
        "Meantime, rents in the building itself are not rising nearly that fast.\n",
        "While the building is an iconic landmark in the New York skyline, it is competing against newer office towers with large floor-to-ceiling windows and all the modern amenities.\n",
        "Still the building is among the best known in the city, even to people who have never been to New York.\n",
        "It is famous for its triangle-shaped, vaulted windows worked into the stylized crown, along with its distinctive eagle gargoyles near the top.\n",
        "It has been featured prominently in many films, including Men in Black 3, Spider-Man, Armageddon, Two Weeks Notice and Independence Day.\n",
        "The previous sale took place just before the 2008 financial meltdown led to a plunge in real estate prices.\n",
        "Still there have been a number of high profile skyscrapers purchased for top dollar in recent years, including the Waldorf Astoria hotel, which Chinese firm Anbang Insurance purchased in 2016 for nearly $2 billion, and the Willis Tower in Chicago, which was formerly known as Sears Tower, once the world's tallest.\n",
        "Blackstone Group (BX) bought it for $1.3 billion 2015.\n",
        "The Chrysler Building was the headquarters of the American automaker until 1953, but it was named for and owned by Chrysler chief Walter Chrysler, not the company itself.\n",
        "Walter Chrysler had set out to build the tallest building in the world, a competition at that time with another Manhattan skyscraper under construction at 40 Wall Street at the south end of Manhattan. He kept secret the plans for the spire that would grace the top of the building, building it inside the structure and out of view of the public until 40 Wall Street was complete.\n",
        "Once the competitor could rise no higher, the spire of the Chrysler building was raised into view, giving it the title.\"\"\"\n"
      ]
    },
    {
      "cell_type": "markdown",
      "source": [
        "**TEXT SUMMARIZATION**\n",
        "\n",
        "\n",
        "*   Text cleaning\n",
        "*   Sentence Tokenization\n",
        "*   Word tokenization\n",
        "*   Word-freq table\n",
        "*   Summarization"
      ],
      "metadata": {
        "id": "J75lFOo3LpCF"
      }
    },
    {
      "cell_type": "code",
      "source": [
        "health_text"
      ],
      "metadata": {
        "colab": {
          "base_uri": "https://localhost:8080/",
          "height": 244
        },
        "id": "LJtWy0iTJ96Y",
        "outputId": "0d6aca45-5012-413b-90c0-4c8e07f6cbd0"
      },
      "execution_count": 21,
      "outputs": [
        {
          "output_type": "execute_result",
          "data": {
            "text/plain": [
              "'dr karen bell is the chair of the certification commission for health information technology cchit which is a not for profit hit certification body with an educational mission\\nin a june 2013 post on the health affairs blog dr bell said that models such as a acos must successfully implement seven business processes all of which rely heavily on the proper use of health informatics\\nthe seven processes are care coordination cohort management patient relationship management clinician engagement financial management reporting and knowledge management\\nto support this she lists four primary requirements of an aco hit infrastructure\\nthe first demands the ability to share health information between and among various internal and external providers patients and their designated caregivers\\nsecond there needs to be data integration from clinical administrative financial and patient derived sources\\nthe third requires attention to hit functions that support patient safety\\nthe fourth requires strong privacy and security protections\\nmost health care organizations have a lot of work to do in order to achieve all of this\\nearlier in her post dr bell says that quote the promise of accountable care is tempered by a dearth of experience with care process redesign and culture change and of knowledge about the health information technology infrastructure necessary to optimally support healthcare transformation end quote\\nto summarize the need for health it to support new care and payment models is clear but we still have a long way to go to develop and properly use those systems\\nnext we turn to some of the key challenges to doing that\\nim james c cox\\nim the noah langdale jr\\nchair in economics the georgia research alliance eminent scholar and director of the experimental economic center at georgia state university\\nim an experimental and behavioral economist which if you wondered what does an economist have to do with actual delivery of healthcare\\nthe words experimental and behavioral are the keys\\nbecause the centers of my areas of expertise are how people respond to incentives and use information in making decisions and how one can design mechanisms to help them improve the decisions that they make\\nin this case the problem to be addressed is not lack of information\\nphysicians are overwhelmed with information and the problem we face is how to use it\\nwhere my team at the experimental economic center comes in is to start with a large sample of the identified patient records do an analysis of that data to try and find the predictors of unsuccessful and successful discharge from the hospital and then build on that a clinical decision support system with user friendly displays that can aid the physicians in making better decisions\\nfirst of all the economist did the data analysis and then my it\\nstaff design the original cdss that we used in experiments here at emory\\nwe ran experiments with both resident physicians and fourth year medical students\\ninitially they were making decisions about virtual patients being represented by computers for trained data of real patients\\nwe later did an experiment where we had patient actors called standardized patients\\nthere were two sources of information which was the cdss and the behavior of these standardized patients and this is the last step before being ready to go out on the patient wards with an intervention\\ngetting prepared to go take that last step onto the patient wards is where we encountered really serious problems\\nbecause at that point we needed a version of the cd ss that can interact with electronic health records in real time\\nwhen we started to try and take that step we ran into very severe obstacles because you can imagine protecting patient information is a central concern and we were asking for twoway communication\\nat that point both cerner corporation and emory it\\nessentially balked\\nwe were in near despair in not being able to get cooperation from cerner and emory it\\nin trying to make the next step in getting out of the laboratory and onto the patient wards\\nwe had a meeting here at emory with the new director of emory it\\nand he made us aware of the fire standards and he invited mark grunstein to come who said to us well youve hit a brick wall but i know how to get through that brick wall\\nand it is using fire compliance which is forthcoming\\nand he provided to us the information we needed for the path forward and also provided a path to start to walk down that path through the projects that his class teams could do for us\\nwe were enthusiastic about learning about that path and having that opportunity to start walking down that path\\none of the project teams working on an initial version of the app produced some alternative very nice displays of the information and this is critical because for the cds to have value it has to have two properties\\none is it makes correct predictions about probability of readmission of a patient if you discharge them on any given day\\nbut the other thing it needs to do is to present the information in a userfriendly way\\nso heres what in principle the problem to be solved\\nthe underlying model looks at each patient as though as an individual patient that comes from a population of a very large sample for which we know the outcomes of previous decisions where a patient that looks like your individual patient today out of a very large sample of 30 or 40 thousand patients\\nif you discharge your patients today do they look statistically more like ones who it was unsuccessful and they were readmitted or it was successful and they were not\\nthe critical thing then is not only to have the underlying correct predictions but to display them in a way that the physicians will actually find it easy to use\\nand one of the class teams produce these beautiful information displays and there are two of them\\none of them presents the information and is like rectangular block format another in a beautiful circular format\\nbut the nature of the information displayed is in the lower left hand corner of the display is something that shows the probabilities of readmission for patients and itll show the time sequence from the first day your patient was in the hospital up to the current day\\nit displays the point estimate of the probability of readmission unplanned readmission if you discharge them today and the 80 error bounds\\nthe center of the display shows all of the variables in the patients record including labs vitals all the information and those displays are color coded\\nand the color coding represents the marginal significance on probability of readmission of each of those individual variables\\nthe user then can click on any one of those variable names in the central display and that will open up on the right side of the screen\\nthe detailed information on that individual variable for your patient including how it varied from the day admission up to the current day and how that time path of those readings compares to the normal range of that particular variable\\na large part of kaisers success is because its concentrated in a few areas where it has the market presence to own and operate all or most of its facilities and employ its physicians\\ncan smaller care organizations deliver the kind of care that kaiser provides\\nmany feel the patientcentered medical home or pcmh provides for this\\nthe concept dates to the early 1960s\\nin fact i worked in an early example of the pcmh where i oversaw the development of one of the first electronic medical records systems starting around 1970\\nthe pcmh model is advocated by the american college of physicians or acp which is the professional organization for internal medicine doctors\\nits also supported by the american academy of family physicians or aafp the other large professional association of primary care physicians\\nthis is because their members are the doctors on the front lines of managing chronic disease\\nthe acp describes the pcmh as a care delivery model whereby patient treatment is coordinated through their primary care physician to ensure they receive the necessary care when and where they need it in a manner they can understand\\nthe objective is to have a centralized setting that facilitates partnerships between individual patients and their personal physicians and when appropriate for patients family\\ncare is facilitated by registries information technology health information exchange and other means to assure that patients get the indicated care when and where they need and want it in a culturally and linguistically appropriate manner\\nnote again in this graphic from the aafp the emphasis is on providing all needed care and using information technology to manage that\\nthe kaiser family foundation is a nonprofit organization focusing on national health issues as well as the us role in global health policy\\nthis 2013 kaiser family foundation data shows that uninsured people receive substantially less healthcare than the insured\\nthis 2015 data shows that the uninsured are likely to have no regular source of care to postpone or do without needed care or to postpone or not get needed prescriptions due to cost\\nkaiser family foundation goes on to say that insured and uninsured people who are injured or newly diagnosed with a chronic condition such as diabetes or hypertension receive similar plans for followup care from their physician\\npeople without health coverage are less likely to obtain all the recommended services than those with coverage\\nfinally because the uninsured are less likely to have regular outpatient care they are more likely to end up with expensive hospitalizations for avoidable health problems and to experienced declines in their overall health\\nwhen hospitalized uninsured people receive fewer diagnostic and therapeutic services and have higher mortality rates than those with insurance\\nim john sweeney\\nim the joseph brown whitehead professor of surgery and chairman of the department of surgery for the emory university school of medicine\\nmuscle insertion and chief emory health care\\nwe became interested in this problem in about 2009 2010 and it was based on a landmark paper that was published in new england journal of medicine in 2007\\nin that paper the authors found that medicare patients discharged from the hospital we were readmitted an enormous number almost 20 of those patients\\nand within 30 days after discharge the cost to the health care system was in the billions of dollars\\nand so it was creating a significant amount of interest at the federal level\\nand as part of the patient protection affordable care act section 1324 which is the readmission reduction act was signed into law which penalizes hospitals that have access readmission rates over whats expected\\nand so this has become a substantial problem and generated substantial focus for hospitals around the country to reduce their readmission rates and improve outcomes for their patients\\nits an interesting problem\\nas we started looking at the readmission problem we realized that there were several factors at play that needed to be considered not just the simple readmission\\nthe first was the decision to send the patient home\\none was the patient ready to be discharged\\nand keeping in mind with that that the longer patient stays in the hospital the higher the costs associated with that\\nand so our doctors are incentivized to reduce costs and move patients through the hospital care segment\\nif they move too quickly patients could potentially be readmitted\\nand so we felt that the tool that brought information to bear that help providers make timely decisions that were more effective and reduce readmission rates really could make a huge difference in the outcomes for patients but also decrease costs for health care system\\ni am a practicing general surgeon\\ni do complex general surgery and so because my interest is in that area and patients that undergo complex general surgery can have readmission rates as high as 20 we initially focused on a large dataset of patients here at emory university hospital that had previously undergone complex gi surgery\\nand we looked at readmissions in those patients and with the help of the economists working at georgia state built a predictive model that helped us with more likely predicting one it was the appropriate time to send a patient home from the hospital\\nwe then took that tool into the simulated setting and actually both using a computer simulation setting and also mock patient actors in a simulation setting here in the emory center for experiential learning\\nwe actually showed that this tool does have benefit and we think that in the true clinical setting would lead to reduce readmissions decreased like this day and improve outcomes overall for our patients\\nthe big issue for us now is as weve put a considerable amount of work into developing what we think is something that could have some significant benefit at the bedside as how to be able to integrate an electronic record with this decision support tool and really firers the mechanism for doing that\\nits the opportunity thats going to allow us to bring to bear what weve spent a lot of time working on and what we think is going to make a difference for patients\\nand also make the decision making process easier for provider\\nthe future of our tool i think is the next step is going to be a clinical trial with the tool and the clinical arena\\nweve already shown the utility both in the computer simulated setting as well as in a mock patient setting\\nbut in reality what needs to happen next is this tool needs to be trialled in the clinical setting to demonstrate its utility\\nthe risks of readmission and the impacts of a readmission as well as the impacts of a prolonged length of stay are significant\\nand therefore we think that this needs to be trialled in a controlled setting before turn loose on the healthcare environment\\nlets talk about wasteful spending\\ni should say at the outset that this is an understandably contentious issue\\nas you can see here the iom has identified sources of waste and says that in aggregate they account for around 30 of all us health care spending\\na ratio that has remained unchanged for decades\\nthe widely respected journal health affairs breaks wasteful spending into multiple categories\\nfirst are failures of care delivery\\nthis refers to poor execution or failure to adopt best practices such as for effective preventive care or patient safety\\nsecond our failures of care coordination\\nthis means fragmented and disjointed care such as when patients move from one care setting to another called transitions of care\\npeer coordination turns out to be a major use case for health informatics\\nthird is over treatment\\nhere that ignores scientific evidence\\nthis complex area includes defensive medicine done to avoid lawsuits\\nas well as the use of higher price services that have negligible or no health benefits over less expensive alternatives\\nthis is another major use case for informatics\\nspecifically clinical decision support\\nyou should read the health affairs paper for a more detailed discussion\\nfourth is administrative complexity\\nthis is excess spending because payers our regulatory agencies create inefficient or flawed rules and overly bureaucratic procedures\\nas i alluded to earlier i believe the multiplicity of insurance plans and government programs here in the us adds to these costs\\nfifth is pricing failure\\nthis is when the price of a service exceeds that found in a properly functioning marketplace which would expect to be equal to the actual costs of production plus a reasonable profit\\nfor example here in the us pharmaceutical costs are significantly higher than in other countries\\nsurprisingly by law medicare is prohibited from negotiating with pharmaceutical companies to get the best possible prices\\nlast are fraud and abuse\\nin addition to the cost of the fraud itself\\nthis includes the cost of additional inspections and regulations to catch wrongdoing\\nearlier we said that while the us excels in high technology care our overall health care quality efficiency and safety results are poor\\nin large part this is because most health care costs are due to the incurable lifelong chronic diseases that our health care system is not designed to treat\\npatients with multiple chronic diseases account disproportionately for those costs\\nheres the opening paragraph of a 2004 paper in public health reports that i strongly recommend you read\\nquote in 2000 approximately 125 million americans 45 of the population had chronic conditions and 61 million 21 of the population had multiple chronic conditions\\nthe number of people with chronic conditions is projected to increase steadily over the next 30 years\\nwhile current health care financing and delivery systems were designed primarily to treat acute conditions 78 of health spending is devoted to people with chronic conditions\\nquality medical care for people with chronic conditions requires a new orientation toward prevention of chronic disease and provision of ongoing care in care management to maintain their health status and functioning\\nspecific focus should be applied to people with multiple chronic conditions\\nend quote\\nthe paper then goes on to describe the care of those patients saying quote while the average medicare beneficiary sees between six and seven different physicians beneficiaries with five or more chronic conditions see almost 14 different physicians in a year an average 37 physician visits annually\\npeople with five or more chronic conditions fill almost 50 prescriptions in a year\\nthis stunning fragmentation of the care of the people who drive most health care costs is the central rationale for interoperability\\nthis is so key that ill now interview one of the authors of that paper dr jared anderson of the bloomberg school of public health at johns hopkins\\nso far weve talked mostly about the role of health informatics to improve the delivery of care\\nwhat about its role in ensuring we deliver the right care to every patient every time\\nthis is a major concern of the academy of medicine which is the new name for the institute of medicine\\nit recognizes that we are entering a new era of medical science that offers the prospect of personalized health care\\nit also recognizes that physicians and patients must deal with an increasingly complex array of health care options and decisions and they need help to choose wisely\\nthat help in turn may require new knowledge about what works and when and for whom it works\\nto achieve that years ago iom called for a learning health care system\\nthat it describes as a sustainable system that gets the right care for people when they need it and then captures the results for further improvement\\nin simple terms we need to gather data from care already delivered aggregated and analyze it to learn from the collective results of many care representatives\\nwe need a feedback cycle\\nare there examples of a better approach\\nyes\\nearlier i mentioned health maintenance organizations\\nand well now look at the oldest\\nkaiser permanente was founded in 1945 by industrialists henry j kaiser and physician sidney r garfield\\nedgar kaiser famously described its economic model as the less kaiser does for patients the more money it makes\\nthis is because kaiser offers a prepaid plan to employers\\nkaiser agrees to provide all needed care for a fixed amount per year\\nthe history actually dates to 1933 when garfield opened the contractors general hospital with 12 beds to treat construction workers building the los angeles aqueduct in the mojave desert\\nthe hospital was in a precarious financial state\\nfueled by garfields desire to treat all patients regardless of their ability to pay\\nharold hatch an insurance agent proposed that the insurance companies pay the hospital a total amount in advance for each worker covered\\nthe financial relationship between the insurance companies and the hospital was efficient and allowed garfield to focus on a new idea preventative health care\\nthis is the first key takeaway\\nwhen the health care economic model provides the right incentives the focus shifts to preventive care in order to avoid costs\\nkaiser is also a leader in care coordination and population health two key strategies for managing chronic disease that well discuss later on\\nto support these strategies kaiser has also been a leader in the use of information technology\\nhimss is a large notforprofit organization focused on better health through information technology\\nits annual meeting is by far the largest event in the field\\nin 2009 kaiser received the first ever stage 7 award\\nthis is himss highest level of recognition for an environment where paper charts are no longer used\\nthats the second key takeaway\\na care models that work best for chronic disease rest on the use of information technology\\nkaisers done well\\nand today it employs 186000 staff and over 18000 physicians to serve over 10 million patients in these areas\\nprior to world war ii us patients paid for most healthcare which was relatively inexpensive until the beginning of high tech medicine in the 1970s\\nafter the war the us economy experienced explosive growth and employers were competing for workers\\nhealth insurance became an attractive but inexpensive employee benefit\\nin the early 1960s the federal government created two major new health insurance programs medicare for citizens over 65 and medicaid primarily for the poor and those with certain disabilities\\nthis graphic from the california health care foundation shows our complex mixture of payment sources the contributions of which vary with the kind of care\\nuntil quite recently most payments for health care services were pay for procedures where in simple terms individual providers and hospitals are paid on the basis of how much care they deliver\\nearlier we mentioned that healthcare in the us was traditionally charged based on the amount of care that was delivered\\nthis is usually termed pay for procedures\\nhmos are an example of an alternate model in which there is fixed reimbursement\\nso if kaiser spends less than its premium income it makes a profit\\nin fact like most nonprofits kaiser still needs earnings to invest in its business\\nhowever this relies on kaiser employing all the physicians owning all the hospitals and more\\ncan we create something similar on a much smaller scale using physicians hospitals and other community health resources that are already in place\\nin 2006 dartmouth professor elliott s fisher first used the term accountable care organization to describe such a proposed solution\\nthe details are complex but the basic idea is to create a financial model under which existing community providers can organize and deliver care in a way that improves the quality and lowers the cost of care by fostering greater accountability on the part of the providers for their performance\\none of the key provisions of the obama administrations affordable care act was the creation of acos within medicare\\nthis model is also now widely advocated by commercial health insurance companies\\namericans often hear that we have the worlds best healthcare system\\nthis is dr brant james a distinguished expert on healthcare quality at intermountain healthcare which is widely regarded as one of the premier healthcare delivery systems in the united states\\nyears ago he gave me the data for this graphic that shows that the us has the lowest mortality rates for high technology medicine the kind of care you need after a heart attack or major trauma\\nthats the positive part of the story\\na commonwealth fund is a private foundation that promotes a high performing healthcare system particularly for our most vulnerable citizens\\nthis graphic from its international research program shows that while the us spends around twice as much per capita on healthcare as six other industrialized nations\\nour overall rank is at the bottom on quality access efficiency and equity of care\\nour citizens also rank at the bottom with respect to living long healthy productive lives\\nnext were going to travel all the way to baltimore to the johns hopkins bloomberg school of public health to speak with dr gerard anderson a professor there and the first author of the paper i cite more than any other during this course the rising tide of chronic disease in america\\nwell gerard thank you so much for being with us today\\nits a thrill to meet you\\nim glad to be here\\ngreat\\na decade ago you and your colleague jane horvath published what i view as a seminal paper the growing burden of chronic disease in america\\nthe students of the course if theyve been paying attention are quite familiar with it by now\\nand it opened my mind to the aggregate problem of chronic disease in a way that really no previous paper had done\\nwhich is why i view it the way i do\\nso were 10 years later\\nhave we made progress\\nwhere are we\\nwell we have made progress\\ni mean i think what you knew already is that as you saw patients that had chronic disease but you didnt know how many patients there were and now we know that there are 150 million americans almost one out of every two americans that have one or more chronic conditions\\nand that is sort of the new information that we were trying to bring 10 years ago\\nnow what were trying to do now that we have the attention of the policymakers is to start changing the delivery system\\nthat starts with prevention but it goes to care and cure for these chronic conditions and there were making a lot less progress\\ni was more optimistic 10 years ago than i am now\\nmost everything that weve tried recently has just not worked very well\\nwell here in the last few years weve tried to make the healthcare industry adopt health it and weve tried to create health information exchanges\\nwere still really early in that\\nbut are you optimistic that that will happen and that it will make a difference\\nwell it is happening so im very optimistic that it will happen\\nwhat i dont think weve solved very well so far is that dashboard problem of a doctor\\ni have 10 minutes to take care of a patient and she has seven things wrong with her shes seeing nine other doctors and i have 10 minutes\\nif i spend most of that time looking at her medical record i now have five minutes to talk to her\\nand so the challenge is how can we get that information out to the physician in a timely fashion for that complex patient\\nfor the patient who only has diabetes its pretty easy\\nbut for that patient who has diabetes and congestive heart failure and beginning alzheimers and arthritis and is seeing all these different doctors and taking lots of different medications thats the challenge\\ni hope the students remember that comment because thats basically what were going to talk about in lesson six of the course\\ngreat\\nwell you also mentioned incentives\\ni mean clearly the healthcare system has never been incented\\ndo you see that working\\nare you optimistic that thats actually going to happen in this endlessly complex adaptive health care system\\nso i was just amazed when i started this work in the 1990s that australia had tried care coordination programs and they had and all failed\\nand then i said but the united states can do it differently or the uk could do it differently\\nand so ive been looking around the world for those models and i just dont see them yet\\ni mean its just sort of we know what we need to do which is to get everybody on the same team probably with a nurse practitioner talking to all the doctors but we havent been able to figure it out\\nso most all of the demonstrations that weve tried both in the public sector and the private sector just havent been able to save money reduce improve outcomes and improve satisfaction\\nwe just dont have very many of those things that hit all three of them very well\\nand were still working and so im optimistic that we will find it but so far we just havent been very successful\\nwell your paper actually ends on an optimistic note\\nyou point to the reengineering the healthcare system a century ago around new knowledge in public health\\nis it so fundamentally different now that that optimism may be misplaced\\nno but i think if you read it a little more carefully what youll see is i said we moved in 50 years from a system oriented around infectious disease to one thats oriented on acute illnesses\\nand then we got that done by about 2000\\nand i said it is going to take us 50 years to reorient the healthcare system around chronic disease\\nwe have to start with the evidence base we have to know how to take care of somebody who has seven things wrong with her when the nih and the fda exclude all those people from clinical trials\\nwe dont have the educational system and the medical schools oriented around that\\nwe dont have the financing and so right now there isnt a real strong incentive for hospitals and doctors to really go after these people to take care of them in an effective way\\nin fact because they dont know how to do it they want to run away from them in most cases\\nbut this is where the money is\\ntwothirds of medicare spending is by people with five or more chronic conditions\\nweve got to get the system right for these people we just dont know how to do it yet\\nso i cant speak to 50 years ago but 40 years ago i was a medical student\\nfirst getting interested in this\\nand i remember going to meetings and they would say well heres where we are and if these trends continue and we dont do anything by right about now health care will be consuming 20 of the gross domestic product a number thats absolutely not sustainable\\nright\\nnow ive seen projections from omb and others that if we dont do anything it will be 40 in 50 years\\ndo we have 50 years\\nwell when i started working and trying to control health care costs in the 1970s i said well never be able to sustain 10 of gdp on healthcare now its close to 20\\nso ive stopped making projections as to whether or not we can afford to do something\\nwhat we know is that by the time it gets to almost 30 which isnt that far along almost all the growth in the economy all the productivity growth in the economy will in fact go to support the growth in healthcare and thats probably not sustainable\\nbut we dont know whats going to turn the ship around maybe its it maybe its changing the financial incentives but since everybody is making so much money in healthcare and you know jobs are important and financial security is important its going to be a really tough change\\nso many of us speculate that eventually with our backs against the wall well adopt a single payer system like every other country on earth\\nyou think thats going to happen here in the us\\ni was more optimistic in the 90s than i am today\\nbasically americans love choice\\nall you have to do is go to a grocery store and go down the cereal aisle and look at 40 to 100 different choices of cereal whereas if you go to france youll see two or three in most cases\\nchoice is what makes america and is going to be really hard to get the private insurance industry out of it\\nwe cant even get right now many of the states to embrace medicaid so if they cant embrace medicaid which is free money to them why would we think that they would go to a single payer\\ni mean i think it makes sense\\nit means that we pay a lot more for healthcare than other industrialized countries because of this choice but america seems to really like choice\\nwell thank you very much\\nits been a pleasure\\nthank you\\nmaybe well be able to get together 10 more years and see whats happened\\ni hopefully it will be more optimistic that time\\nlack of health insurance can increase health care costs\\nthis map shows that other than the us virtually all developed nations have universal health care that covers everyone\\nthe affordable care acts major coverage provisions went into effect in january 2014 and have led to significant coverage gains but as of the end of 2016 estimates were that around 30 million americans were still uninsured\\nthe institute of medicine widely referred to as the iom is the health care arm of the national academy of science which was founded in 1863 under president lincoln\\naccording to the iom the uninsured on average use less health care than do insured persons and members of fully insured families\\nthats lost utilization may be hidden from view but it can prove costly in terms of subs with ill health disability and premature death\\nas shown in this graphic there are at least three key informatics challenges to overcome in order to achieve a learning health care system\\nfirst providers must adopt digital records\\nsecond no systems must be able to share data a characteristic called interoperability\\nand third that shared data must be aggregated analyzed and presented in a clinically useful and timely manner\\nbecause of the federal governments high tech program that well discuss in the next lesson adoption is now a largely solved challenge\\nmuch of the excitement about fire rests on its apparent ability to help overcome the interoperability challenge\\nfire apps offer the prospect of solving the problem of timely and useful presentation of the results of the new knowledge gleaned from analysis of past care to busy physicians\\nhere again economics plays a key role\\nif providers have an incentive to get it right and do that efficiently then theyll be interested in creating a learning health care system because they can more clearly see how they benefit from it\\nwell now consider one example when to discharge a patient after surgery\\nin this lesson were going to talk about the us healthcare system\\nthis is a complex topic that cannot be adequately covered in a single lecture\\nso ive provided suggested readings\\nsome students wonder why i devote an entire lesson to the us health care systems structure and economics in what is after all a health informatics course\\nmany georgia tech students come to this course with little background in the health care delivery system\\nhealth informatics the focus of this course is the application of information technology to that delivery system\\ni believe you need at least a basic grounding to appreciate the nature of the system and the key roles health informatics can play in solving its problems\\nto give some examples informatics can help avoid medical errors that often arise from inadequate information or the presence of more information than a human being can process\\nit can help identifying reduce waste to unnecessary or duplicative services\\nit is critical to the surveillance of food borne analysis and disease outbreaks\\ndata mining and many analytic techniques are increasingly being used to find new medicines new treatment protocols and new methods for earlier diagnosis\\nthese are just a few of the potential informatics benefits to health care delivery\\nbut each of them depends to one degree or another on the ability to share digital data\\nas youll see now that most hospitals and around half of all providers have adopted electronic record systems data sharing and interoperability is now the focus\\nso this course is largely about interoperability and the role that the new hl seven fire standard plays in creating it\\nto get ready for that well first discuss the us healthcare system and its problems\\nand then well begin the discussion of the role in interoperable informatics landscape can play in solving them\\n'"
            ],
            "application/vnd.google.colaboratory.intrinsic+json": {
              "type": "string"
            }
          },
          "metadata": {},
          "execution_count": 21
        }
      ]
    },
    {
      "cell_type": "code",
      "source": [
        "# !pip install -U spacy\n",
        "import spacy\n",
        "from spacy.lang.en.stop_words import STOP_WORDS\n",
        "from string import punctuation"
      ],
      "metadata": {
        "id": "ZyFwOE8HC_ES"
      },
      "execution_count": 8,
      "outputs": []
    },
    {
      "cell_type": "code",
      "source": [
        "stopwords=list(STOP_WORDS)\n",
        "stopwords"
      ],
      "metadata": {
        "colab": {
          "base_uri": "https://localhost:8080/"
        },
        "id": "oizeSmjRDC-q",
        "outputId": "e5720e15-8bd2-4fce-d1d3-cb9beef846bd"
      },
      "execution_count": 10,
      "outputs": [
        {
          "output_type": "execute_result",
          "data": {
            "text/plain": [
              "['formerly',\n",
              " 'name',\n",
              " 'should',\n",
              " 'sixty',\n",
              " 'then',\n",
              " 'what',\n",
              " 'besides',\n",
              " 'below',\n",
              " 'latter',\n",
              " 'we',\n",
              " 'thereupon',\n",
              " 'due',\n",
              " 'about',\n",
              " 'mostly',\n",
              " 'call',\n",
              " 'too',\n",
              " 'become',\n",
              " \"'d\",\n",
              " 'also',\n",
              " 'ca',\n",
              " 'nine',\n",
              " 'somewhere',\n",
              " 'hence',\n",
              " '‘m',\n",
              " 'its',\n",
              " 'amount',\n",
              " '‘re',\n",
              " 'somehow',\n",
              " 'less',\n",
              " 'third',\n",
              " 'onto',\n",
              " 'make',\n",
              " 'alone',\n",
              " 'next',\n",
              " 'sometime',\n",
              " 'everywhere',\n",
              " 'whenever',\n",
              " 'since',\n",
              " '‘s',\n",
              " 'becoming',\n",
              " 'often',\n",
              " 'himself',\n",
              " 'anyhow',\n",
              " 'made',\n",
              " 'how',\n",
              " \"'ll\",\n",
              " 'your',\n",
              " 'is',\n",
              " 'into',\n",
              " '’d',\n",
              " 'everyone',\n",
              " 'nobody',\n",
              " 'being',\n",
              " 'whence',\n",
              " 'by',\n",
              " 'wherever',\n",
              " 'anyway',\n",
              " 'when',\n",
              " 'across',\n",
              " 'who',\n",
              " 'meanwhile',\n",
              " 'six',\n",
              " 'give',\n",
              " 'per',\n",
              " 'amongst',\n",
              " 'did',\n",
              " 'only',\n",
              " 'latterly',\n",
              " 'cannot',\n",
              " 'noone',\n",
              " 'those',\n",
              " \"'ve\",\n",
              " 'wherein',\n",
              " 'unless',\n",
              " 'except',\n",
              " 'any',\n",
              " 'thereby',\n",
              " 'quite',\n",
              " 'out',\n",
              " 'hereby',\n",
              " 'themselves',\n",
              " 'with',\n",
              " 'here',\n",
              " 'over',\n",
              " 'down',\n",
              " 'get',\n",
              " 'none',\n",
              " '’s',\n",
              " 'while',\n",
              " 'that',\n",
              " '’m',\n",
              " 'herein',\n",
              " 'else',\n",
              " 'without',\n",
              " 'top',\n",
              " 'something',\n",
              " 'eight',\n",
              " 'than',\n",
              " 'him',\n",
              " 'take',\n",
              " 'nothing',\n",
              " 'therein',\n",
              " 'one',\n",
              " 'nowhere',\n",
              " 'bottom',\n",
              " 'whereafter',\n",
              " 'must',\n",
              " 'became',\n",
              " 'another',\n",
              " 'towards',\n",
              " 'such',\n",
              " 'moreover',\n",
              " 'where',\n",
              " 'see',\n",
              " 'full',\n",
              " 'hers',\n",
              " 'anything',\n",
              " 'via',\n",
              " 'itself',\n",
              " 'rather',\n",
              " 'ourselves',\n",
              " 'back',\n",
              " 'last',\n",
              " 'beyond',\n",
              " 'show',\n",
              " 'our',\n",
              " 'seeming',\n",
              " 'afterwards',\n",
              " 'mine',\n",
              " 'five',\n",
              " 'others',\n",
              " 'eleven',\n",
              " 'former',\n",
              " 'us',\n",
              " 'very',\n",
              " 'a',\n",
              " 'three',\n",
              " 'move',\n",
              " \"'m\",\n",
              " 'though',\n",
              " 'using',\n",
              " 'they',\n",
              " 'their',\n",
              " 'nevertheless',\n",
              " 'two',\n",
              " 'go',\n",
              " 'might',\n",
              " 'hundred',\n",
              " 'along',\n",
              " 'otherwise',\n",
              " 'off',\n",
              " \"'re\",\n",
              " 'am',\n",
              " 'neither',\n",
              " 'do',\n",
              " 'been',\n",
              " 'yourself',\n",
              " 'could',\n",
              " 'done',\n",
              " 'twelve',\n",
              " 'further',\n",
              " 'together',\n",
              " 'which',\n",
              " 'all',\n",
              " 'some',\n",
              " '‘ll',\n",
              " 'at',\n",
              " 'beforehand',\n",
              " 'i',\n",
              " 'so',\n",
              " 'herself',\n",
              " 'most',\n",
              " '’re',\n",
              " 'the',\n",
              " 'put',\n",
              " 'always',\n",
              " '‘d',\n",
              " 'ten',\n",
              " 'other',\n",
              " 'although',\n",
              " 'never',\n",
              " 'if',\n",
              " 'please',\n",
              " 'were',\n",
              " 'each',\n",
              " 'would',\n",
              " 'can',\n",
              " 'more',\n",
              " 'still',\n",
              " 're',\n",
              " 'least',\n",
              " 'them',\n",
              " 'in',\n",
              " 'hereafter',\n",
              " 'part',\n",
              " '’ll',\n",
              " 'an',\n",
              " 'just',\n",
              " 'there',\n",
              " 'n’t',\n",
              " 'does',\n",
              " 'anyone',\n",
              " 'as',\n",
              " 'empty',\n",
              " 'he',\n",
              " 'whither',\n",
              " 'thus',\n",
              " 'whereupon',\n",
              " 'keep',\n",
              " 'to',\n",
              " 'thence',\n",
              " 'has',\n",
              " \"n't\",\n",
              " 'both',\n",
              " 'upon',\n",
              " 'becomes',\n",
              " 'will',\n",
              " 'ever',\n",
              " 'ours',\n",
              " '’ve',\n",
              " 'thereafter',\n",
              " 'you',\n",
              " \"'s\",\n",
              " 'are',\n",
              " 'for',\n",
              " 'whole',\n",
              " 'indeed',\n",
              " 'hereupon',\n",
              " 'whoever',\n",
              " 'seem',\n",
              " 'doing',\n",
              " 'around',\n",
              " 'because',\n",
              " 'after',\n",
              " 'namely',\n",
              " 'among',\n",
              " 'above',\n",
              " 'really',\n",
              " 'twenty',\n",
              " 'first',\n",
              " 'against',\n",
              " 'under',\n",
              " 'now',\n",
              " 'front',\n",
              " 'her',\n",
              " 'and',\n",
              " 'whom',\n",
              " 'until',\n",
              " 'during',\n",
              " 'myself',\n",
              " 'no',\n",
              " 'regarding',\n",
              " 'before',\n",
              " 'anywhere',\n",
              " 'behind',\n",
              " 'toward',\n",
              " 'may',\n",
              " 'already',\n",
              " 'even',\n",
              " 'forty',\n",
              " 'many',\n",
              " 'sometimes',\n",
              " 'on',\n",
              " 'be',\n",
              " 'but',\n",
              " 'someone',\n",
              " 'these',\n",
              " 'again',\n",
              " 'this',\n",
              " 'once',\n",
              " 'it',\n",
              " 'four',\n",
              " 'seems',\n",
              " 'between',\n",
              " 'n‘t',\n",
              " 'have',\n",
              " 'up',\n",
              " 'my',\n",
              " 'nor',\n",
              " 'from',\n",
              " 'his',\n",
              " 'through',\n",
              " 'say',\n",
              " 'not',\n",
              " 'serious',\n",
              " 'few',\n",
              " 'whereas',\n",
              " 'almost',\n",
              " 'same',\n",
              " 'elsewhere',\n",
              " 'or',\n",
              " 'she',\n",
              " 'throughout',\n",
              " 'yourselves',\n",
              " 'yet',\n",
              " 'thru',\n",
              " 'within',\n",
              " 'was',\n",
              " 'of',\n",
              " 'much',\n",
              " 'beside',\n",
              " 'therefore',\n",
              " 'several',\n",
              " 'me',\n",
              " 'why',\n",
              " 'whereby',\n",
              " 'whatever',\n",
              " 'various',\n",
              " 'enough',\n",
              " 'fifty',\n",
              " 'own',\n",
              " 'whether',\n",
              " 'every',\n",
              " 'whose',\n",
              " 'either',\n",
              " 'well',\n",
              " 'yours',\n",
              " 'had',\n",
              " '‘ve',\n",
              " 'used',\n",
              " 'however',\n",
              " 'perhaps',\n",
              " 'side',\n",
              " 'everything',\n",
              " 'fifteen',\n",
              " 'seemed']"
            ]
          },
          "metadata": {},
          "execution_count": 10
        }
      ]
    },
    {
      "cell_type": "code",
      "source": [
        "nlp=spacy.load('en_core_web_sm')\n",
        "nlp"
      ],
      "metadata": {
        "colab": {
          "base_uri": "https://localhost:8080/"
        },
        "id": "pJ5J5dNNEkbf",
        "outputId": "7c0b70eb-3419-4163-a70e-7bca2cb15365"
      },
      "execution_count": 23,
      "outputs": [
        {
          "output_type": "execute_result",
          "data": {
            "text/plain": [
              "<spacy.lang.en.English at 0x7f2d33594850>"
            ]
          },
          "metadata": {},
          "execution_count": 23
        }
      ]
    },
    {
      "cell_type": "code",
      "source": [
        "doc=nlp(news_text)    "
      ],
      "metadata": {
        "id": "rjPjCfJdHMG8"
      },
      "execution_count": 24,
      "outputs": []
    },
    {
      "cell_type": "code",
      "source": [
        "tokens=[token.text for token in doc]\n",
        "print(tokens)"
      ],
      "metadata": {
        "colab": {
          "base_uri": "https://localhost:8080/"
        },
        "id": "snQCTwPXHUuO",
        "outputId": "d7c8e913-6811-4211-f21c-a4e8929bf5e6"
      },
      "execution_count": 25,
      "outputs": [
        {
          "output_type": "stream",
          "name": "stdout",
          "text": [
            "['The', 'Chrysler', 'Building', ',', 'the', 'famous', 'art', 'deco', 'New', 'York', 'skyscraper', ',', 'will', 'be', 'sold', 'for', 'a', 'small', 'fraction', 'of', 'its', 'previous', 'sales', 'price', '.', '\\n', 'The', 'deal', ',', 'first', 'reported', 'by', 'The', 'Real', 'Deal', ',', 'was', 'for', '$', '150', 'million', ',', 'according', 'to', 'a', 'source', 'familiar', 'with', 'the', 'deal', '.', '\\n', 'Mubadala', ',', 'an', 'Abu', 'Dhabi', 'investment', 'fund', ',', 'purchased', '90', '%', 'of', 'the', 'building', 'for', '$', '800', 'million', 'in', '2008', '.', '\\n', 'Real', 'estate', 'firm', 'Tishman', 'Speyer', 'had', 'owned', 'the', 'other', '10', '%', '.', '\\n', 'The', 'buyer', 'is', 'RFR', 'Holding', ',', 'a', 'New', 'York', 'real', 'estate', 'company', '.', '\\n', 'Officials', 'with', 'Tishman', 'and', 'RFR', 'did', 'not', 'immediately', 'respond', 'to', 'a', 'request', 'for', 'comments', '.', '\\n', 'It', \"'s\", 'unclear', 'when', 'the', 'deal', 'will', 'close', '.', '\\n', 'The', 'building', 'sold', 'fairly', 'quickly', 'after', 'being', 'publicly', 'placed', 'on', 'the', 'market', 'only', 'two', 'months', 'ago', '.', '\\n', 'The', 'sale', 'was', 'handled', 'by', 'CBRE', 'Group', '.', '\\n', 'The', 'incentive', 'to', 'sell', 'the', 'building', 'at', 'such', 'a', 'huge', 'loss', 'was', 'due', 'to', 'the', 'soaring', 'rent', 'the', 'owners', 'pay', 'to', 'Cooper', 'Union', ',', 'a', 'New', 'York', 'college', ',', 'for', 'the', 'land', 'under', 'the', 'building', '.', '\\n', 'The', 'rent', 'is', 'rising', 'from', '$', '7.75', 'million', 'last', 'year', 'to', '$', '32.5', 'million', 'this', 'year', 'to', '$', '41', 'million', 'in', '2028', '.', '\\n', 'Meantime', ',', 'rents', 'in', 'the', 'building', 'itself', 'are', 'not', 'rising', 'nearly', 'that', 'fast', '.', '\\n', 'While', 'the', 'building', 'is', 'an', 'iconic', 'landmark', 'in', 'the', 'New', 'York', 'skyline', ',', 'it', 'is', 'competing', 'against', 'newer', 'office', 'towers', 'with', 'large', 'floor', '-', 'to', '-', 'ceiling', 'windows', 'and', 'all', 'the', 'modern', 'amenities', '.', '\\n', 'Still', 'the', 'building', 'is', 'among', 'the', 'best', 'known', 'in', 'the', 'city', ',', 'even', 'to', 'people', 'who', 'have', 'never', 'been', 'to', 'New', 'York', '.', '\\n', 'It', 'is', 'famous', 'for', 'its', 'triangle', '-', 'shaped', ',', 'vaulted', 'windows', 'worked', 'into', 'the', 'stylized', 'crown', ',', 'along', 'with', 'its', 'distinctive', 'eagle', 'gargoyles', 'near', 'the', 'top', '.', '\\n', 'It', 'has', 'been', 'featured', 'prominently', 'in', 'many', 'films', ',', 'including', 'Men', 'in', 'Black', '3', ',', 'Spider', '-', 'Man', ',', 'Armageddon', ',', 'Two', 'Weeks', 'Notice', 'and', 'Independence', 'Day', '.', '\\n', 'The', 'previous', 'sale', 'took', 'place', 'just', 'before', 'the', '2008', 'financial', 'meltdown', 'led', 'to', 'a', 'plunge', 'in', 'real', 'estate', 'prices', '.', '\\n', 'Still', 'there', 'have', 'been', 'a', 'number', 'of', 'high', 'profile', 'skyscrapers', 'purchased', 'for', 'top', 'dollar', 'in', 'recent', 'years', ',', 'including', 'the', 'Waldorf', 'Astoria', 'hotel', ',', 'which', 'Chinese', 'firm', 'Anbang', 'Insurance', 'purchased', 'in', '2016', 'for', 'nearly', '$', '2', 'billion', ',', 'and', 'the', 'Willis', 'Tower', 'in', 'Chicago', ',', 'which', 'was', 'formerly', 'known', 'as', 'Sears', 'Tower', ',', 'once', 'the', 'world', \"'s\", 'tallest', '.', '\\n', 'Blackstone', 'Group', '(', 'BX', ')', 'bought', 'it', 'for', '$', '1.3', 'billion', '2015', '.', '\\n', 'The', 'Chrysler', 'Building', 'was', 'the', 'headquarters', 'of', 'the', 'American', 'automaker', 'until', '1953', ',', 'but', 'it', 'was', 'named', 'for', 'and', 'owned', 'by', 'Chrysler', 'chief', 'Walter', 'Chrysler', ',', 'not', 'the', 'company', 'itself', '.', '\\n', 'Walter', 'Chrysler', 'had', 'set', 'out', 'to', 'build', 'the', 'tallest', 'building', 'in', 'the', 'world', ',', 'a', 'competition', 'at', 'that', 'time', 'with', 'another', 'Manhattan', 'skyscraper', 'under', 'construction', 'at', '40', 'Wall', 'Street', 'at', 'the', 'south', 'end', 'of', 'Manhattan', '.', 'He', 'kept', 'secret', 'the', 'plans', 'for', 'the', 'spire', 'that', 'would', 'grace', 'the', 'top', 'of', 'the', 'building', ',', 'building', 'it', 'inside', 'the', 'structure', 'and', 'out', 'of', 'view', 'of', 'the', 'public', 'until', '40', 'Wall', 'Street', 'was', 'complete', '.', '\\n', 'Once', 'the', 'competitor', 'could', 'rise', 'no', 'higher', ',', 'the', 'spire', 'of', 'the', 'Chrysler', 'building', 'was', 'raised', 'into', 'view', ',', 'giving', 'it', 'the', 'title', '.']\n"
          ]
        }
      ]
    },
    {
      "cell_type": "code",
      "source": [
        "punctuation=punctuation + '\\n'\n",
        "punctuation"
      ],
      "metadata": {
        "colab": {
          "base_uri": "https://localhost:8080/",
          "height": 36
        },
        "id": "1q37L7i_HX51",
        "outputId": "64eed05f-dc33-4816-c41d-c569bd490916"
      },
      "execution_count": 27,
      "outputs": [
        {
          "output_type": "execute_result",
          "data": {
            "text/plain": [
              "'!\"#$%&\\'()*+,-./:;<=>?@[\\\\]^_`{|}~\\n'"
            ],
            "application/vnd.google.colaboratory.intrinsic+json": {
              "type": "string"
            }
          },
          "metadata": {},
          "execution_count": 27
        }
      ]
    },
    {
      "cell_type": "code",
      "source": [
        "word_frequencies={}\n",
        "for word in doc:\n",
        "  if word.text.lower() not in stopwords:\n",
        "    if word.text.lower() not in punctuation:\n",
        "      if word.text not in word_frequencies.keys():\n",
        "        word_frequencies[word.text]=1\n",
        "      else:\n",
        "        word_frequencies[word.text]+=1\n"
      ],
      "metadata": {
        "id": "WLA90AQeKzwq"
      },
      "execution_count": 29,
      "outputs": []
    },
    {
      "cell_type": "code",
      "source": [
        "print(word_frequencies)"
      ],
      "metadata": {
        "colab": {
          "base_uri": "https://localhost:8080/"
        },
        "id": "jXHt5huKNVKg",
        "outputId": "27f98b8f-e4d3-4bb1-966c-851224458577"
      },
      "execution_count": 31,
      "outputs": [
        {
          "output_type": "stream",
          "name": "stdout",
          "text": [
            "{'Chrysler': 6, 'Building': 2, 'famous': 2, 'art': 1, 'deco': 1, 'New': 5, 'York': 5, 'skyscraper': 2, 'sold': 2, 'small': 1, 'fraction': 1, 'previous': 2, 'sales': 1, 'price': 1, 'deal': 3, 'reported': 1, 'Real': 2, 'Deal': 1, '150': 1, 'million': 5, 'according': 1, 'source': 1, 'familiar': 1, 'Mubadala': 1, 'Abu': 1, 'Dhabi': 1, 'investment': 1, 'fund': 1, 'purchased': 3, '90': 1, 'building': 11, '800': 1, '2008': 2, 'estate': 3, 'firm': 2, 'Tishman': 2, 'Speyer': 1, 'owned': 2, '10': 1, 'buyer': 1, 'RFR': 2, 'Holding': 1, 'real': 2, 'company': 2, 'Officials': 1, 'immediately': 1, 'respond': 1, 'request': 1, 'comments': 1, 'unclear': 1, 'close': 1, 'fairly': 1, 'quickly': 1, 'publicly': 1, 'placed': 1, 'market': 1, 'months': 1, 'ago': 1, 'sale': 2, 'handled': 1, 'CBRE': 1, 'Group': 2, 'incentive': 1, 'sell': 1, 'huge': 1, 'loss': 1, 'soaring': 1, 'rent': 2, 'owners': 1, 'pay': 1, 'Cooper': 1, 'Union': 1, 'college': 1, 'land': 1, 'rising': 2, '7.75': 1, 'year': 2, '32.5': 1, '41': 1, '2028': 1, 'Meantime': 1, 'rents': 1, 'nearly': 2, 'fast': 1, 'iconic': 1, 'landmark': 1, 'skyline': 1, 'competing': 1, 'newer': 1, 'office': 1, 'towers': 1, 'large': 1, 'floor': 1, 'ceiling': 1, 'windows': 2, 'modern': 1, 'amenities': 1, 'best': 1, 'known': 2, 'city': 1, 'people': 1, 'triangle': 1, 'shaped': 1, 'vaulted': 1, 'worked': 1, 'stylized': 1, 'crown': 1, 'distinctive': 1, 'eagle': 1, 'gargoyles': 1, 'near': 1, 'featured': 1, 'prominently': 1, 'films': 1, 'including': 2, 'Men': 1, 'Black': 1, '3': 1, 'Spider': 1, 'Man': 1, 'Armageddon': 1, 'Weeks': 1, 'Notice': 1, 'Independence': 1, 'Day': 1, 'took': 1, 'place': 1, 'financial': 1, 'meltdown': 1, 'led': 1, 'plunge': 1, 'prices': 1, 'number': 1, 'high': 1, 'profile': 1, 'skyscrapers': 1, 'dollar': 1, 'recent': 1, 'years': 1, 'Waldorf': 1, 'Astoria': 1, 'hotel': 1, 'Chinese': 1, 'Anbang': 1, 'Insurance': 1, '2016': 1, '2': 1, 'billion': 2, 'Willis': 1, 'Tower': 2, 'Chicago': 1, 'Sears': 1, 'world': 2, 'tallest': 2, 'Blackstone': 1, 'BX': 1, 'bought': 1, '1.3': 1, '2015': 1, 'headquarters': 1, 'American': 1, 'automaker': 1, '1953': 1, 'named': 1, 'chief': 1, 'Walter': 2, 'set': 1, 'build': 1, 'competition': 1, 'time': 1, 'Manhattan': 2, 'construction': 1, '40': 2, 'Wall': 2, 'Street': 2, 'south': 1, 'end': 1, 'kept': 1, 'secret': 1, 'plans': 1, 'spire': 2, 'grace': 1, 'inside': 1, 'structure': 1, 'view': 2, 'public': 1, 'complete': 1, 'competitor': 1, 'rise': 1, 'higher': 1, 'raised': 1, 'giving': 1, 'title': 1}\n"
          ]
        }
      ]
    },
    {
      "cell_type": "code",
      "source": [
        "max_frequency=max(word_frequencies.values())\n",
        "max_frequency"
      ],
      "metadata": {
        "colab": {
          "base_uri": "https://localhost:8080/"
        },
        "id": "BmDISwCTNZpd",
        "outputId": "20364f2a-a27b-4e45-eac2-2de7f91aed6f"
      },
      "execution_count": 32,
      "outputs": [
        {
          "output_type": "execute_result",
          "data": {
            "text/plain": [
              "11"
            ]
          },
          "metadata": {},
          "execution_count": 32
        }
      ]
    },
    {
      "cell_type": "code",
      "source": [
        "for word in word_frequencies.keys():\n",
        "  word_frequencies[word]=word_frequencies[word]/max_frequency\n",
        "print(word_frequencies)"
      ],
      "metadata": {
        "colab": {
          "base_uri": "https://localhost:8080/"
        },
        "id": "HgaDSt6eNpcV",
        "outputId": "d427c556-40ce-41d0-d466-cd6efee19f2d"
      },
      "execution_count": 34,
      "outputs": [
        {
          "output_type": "stream",
          "name": "stdout",
          "text": [
            "{'Chrysler': 0.5454545454545454, 'Building': 0.18181818181818182, 'famous': 0.18181818181818182, 'art': 0.09090909090909091, 'deco': 0.09090909090909091, 'New': 0.45454545454545453, 'York': 0.45454545454545453, 'skyscraper': 0.18181818181818182, 'sold': 0.18181818181818182, 'small': 0.09090909090909091, 'fraction': 0.09090909090909091, 'previous': 0.18181818181818182, 'sales': 0.09090909090909091, 'price': 0.09090909090909091, 'deal': 0.2727272727272727, 'reported': 0.09090909090909091, 'Real': 0.18181818181818182, 'Deal': 0.09090909090909091, '150': 0.09090909090909091, 'million': 0.45454545454545453, 'according': 0.09090909090909091, 'source': 0.09090909090909091, 'familiar': 0.09090909090909091, 'Mubadala': 0.09090909090909091, 'Abu': 0.09090909090909091, 'Dhabi': 0.09090909090909091, 'investment': 0.09090909090909091, 'fund': 0.09090909090909091, 'purchased': 0.2727272727272727, '90': 0.09090909090909091, 'building': 1.0, '800': 0.09090909090909091, '2008': 0.18181818181818182, 'estate': 0.2727272727272727, 'firm': 0.18181818181818182, 'Tishman': 0.18181818181818182, 'Speyer': 0.09090909090909091, 'owned': 0.18181818181818182, '10': 0.09090909090909091, 'buyer': 0.09090909090909091, 'RFR': 0.18181818181818182, 'Holding': 0.09090909090909091, 'real': 0.18181818181818182, 'company': 0.18181818181818182, 'Officials': 0.09090909090909091, 'immediately': 0.09090909090909091, 'respond': 0.09090909090909091, 'request': 0.09090909090909091, 'comments': 0.09090909090909091, 'unclear': 0.09090909090909091, 'close': 0.09090909090909091, 'fairly': 0.09090909090909091, 'quickly': 0.09090909090909091, 'publicly': 0.09090909090909091, 'placed': 0.09090909090909091, 'market': 0.09090909090909091, 'months': 0.09090909090909091, 'ago': 0.09090909090909091, 'sale': 0.18181818181818182, 'handled': 0.09090909090909091, 'CBRE': 0.09090909090909091, 'Group': 0.18181818181818182, 'incentive': 0.09090909090909091, 'sell': 0.09090909090909091, 'huge': 0.09090909090909091, 'loss': 0.09090909090909091, 'soaring': 0.09090909090909091, 'rent': 0.18181818181818182, 'owners': 0.09090909090909091, 'pay': 0.09090909090909091, 'Cooper': 0.09090909090909091, 'Union': 0.09090909090909091, 'college': 0.09090909090909091, 'land': 0.09090909090909091, 'rising': 0.18181818181818182, '7.75': 0.09090909090909091, 'year': 0.18181818181818182, '32.5': 0.09090909090909091, '41': 0.09090909090909091, '2028': 0.09090909090909091, 'Meantime': 0.09090909090909091, 'rents': 0.09090909090909091, 'nearly': 0.18181818181818182, 'fast': 0.09090909090909091, 'iconic': 0.09090909090909091, 'landmark': 0.09090909090909091, 'skyline': 0.09090909090909091, 'competing': 0.09090909090909091, 'newer': 0.09090909090909091, 'office': 0.09090909090909091, 'towers': 0.09090909090909091, 'large': 0.09090909090909091, 'floor': 0.09090909090909091, 'ceiling': 0.09090909090909091, 'windows': 0.18181818181818182, 'modern': 0.09090909090909091, 'amenities': 0.09090909090909091, 'best': 0.09090909090909091, 'known': 0.18181818181818182, 'city': 0.09090909090909091, 'people': 0.09090909090909091, 'triangle': 0.09090909090909091, 'shaped': 0.09090909090909091, 'vaulted': 0.09090909090909091, 'worked': 0.09090909090909091, 'stylized': 0.09090909090909091, 'crown': 0.09090909090909091, 'distinctive': 0.09090909090909091, 'eagle': 0.09090909090909091, 'gargoyles': 0.09090909090909091, 'near': 0.09090909090909091, 'featured': 0.09090909090909091, 'prominently': 0.09090909090909091, 'films': 0.09090909090909091, 'including': 0.18181818181818182, 'Men': 0.09090909090909091, 'Black': 0.09090909090909091, '3': 0.09090909090909091, 'Spider': 0.09090909090909091, 'Man': 0.09090909090909091, 'Armageddon': 0.09090909090909091, 'Weeks': 0.09090909090909091, 'Notice': 0.09090909090909091, 'Independence': 0.09090909090909091, 'Day': 0.09090909090909091, 'took': 0.09090909090909091, 'place': 0.09090909090909091, 'financial': 0.09090909090909091, 'meltdown': 0.09090909090909091, 'led': 0.09090909090909091, 'plunge': 0.09090909090909091, 'prices': 0.09090909090909091, 'number': 0.09090909090909091, 'high': 0.09090909090909091, 'profile': 0.09090909090909091, 'skyscrapers': 0.09090909090909091, 'dollar': 0.09090909090909091, 'recent': 0.09090909090909091, 'years': 0.09090909090909091, 'Waldorf': 0.09090909090909091, 'Astoria': 0.09090909090909091, 'hotel': 0.09090909090909091, 'Chinese': 0.09090909090909091, 'Anbang': 0.09090909090909091, 'Insurance': 0.09090909090909091, '2016': 0.09090909090909091, '2': 0.09090909090909091, 'billion': 0.18181818181818182, 'Willis': 0.09090909090909091, 'Tower': 0.18181818181818182, 'Chicago': 0.09090909090909091, 'Sears': 0.09090909090909091, 'world': 0.18181818181818182, 'tallest': 0.18181818181818182, 'Blackstone': 0.09090909090909091, 'BX': 0.09090909090909091, 'bought': 0.09090909090909091, '1.3': 0.09090909090909091, '2015': 0.09090909090909091, 'headquarters': 0.09090909090909091, 'American': 0.09090909090909091, 'automaker': 0.09090909090909091, '1953': 0.09090909090909091, 'named': 0.09090909090909091, 'chief': 0.09090909090909091, 'Walter': 0.18181818181818182, 'set': 0.09090909090909091, 'build': 0.09090909090909091, 'competition': 0.09090909090909091, 'time': 0.09090909090909091, 'Manhattan': 0.18181818181818182, 'construction': 0.09090909090909091, '40': 0.18181818181818182, 'Wall': 0.18181818181818182, 'Street': 0.18181818181818182, 'south': 0.09090909090909091, 'end': 0.09090909090909091, 'kept': 0.09090909090909091, 'secret': 0.09090909090909091, 'plans': 0.09090909090909091, 'spire': 0.18181818181818182, 'grace': 0.09090909090909091, 'inside': 0.09090909090909091, 'structure': 0.09090909090909091, 'view': 0.18181818181818182, 'public': 0.09090909090909091, 'complete': 0.09090909090909091, 'competitor': 0.09090909090909091, 'rise': 0.09090909090909091, 'higher': 0.09090909090909091, 'raised': 0.09090909090909091, 'giving': 0.09090909090909091, 'title': 0.09090909090909091}\n"
          ]
        }
      ]
    },
    {
      "cell_type": "code",
      "source": [
        "sentence_tokens=[sen for sen in doc.sents]\n",
        "print(sentence_tokens)"
      ],
      "metadata": {
        "colab": {
          "base_uri": "https://localhost:8080/"
        },
        "id": "ExQs7hXZPKsd",
        "outputId": "0daf7293-c5db-4416-e9a7-b7282933e639"
      },
      "execution_count": 37,
      "outputs": [
        {
          "output_type": "stream",
          "name": "stdout",
          "text": [
            "[The Chrysler Building, the famous art deco New York skyscraper, will be sold for a small fraction of its previous sales price.\n",
            ", The deal, first reported by The Real Deal, was for $150 million, according to a source familiar with the deal.\n",
            ", Mubadala, an Abu Dhabi investment fund, purchased 90% of the building for $800 million in 2008.\n",
            ", Real estate firm Tishman Speyer had owned the other 10%.\n",
            ", The buyer is RFR Holding, a New York real estate company.\n",
            ", Officials with Tishman and RFR did not immediately respond to a request for comments.\n",
            ", It's unclear when the deal will close.\n",
            ", The building sold fairly quickly after being publicly placed on the market only two months ago.\n",
            ", The sale was handled by CBRE Group.\n",
            ", The incentive to sell the building at such a huge loss was due to the soaring rent the owners pay to Cooper Union, a New York college, for the land under the building.\n",
            ", The rent is rising from $7.75 million last year to $32.5 million this year to $41 million in 2028.\n",
            ", Meantime, rents in the building itself are not rising nearly that fast.\n",
            ", While the building is an iconic landmark in the New York skyline, it is competing against newer office towers with large floor-to-ceiling windows and all the modern amenities.\n",
            ", Still the building is among the best known in the city, even to people who have never been to New York.\n",
            ", It is famous for its triangle-shaped, vaulted windows worked into the stylized crown, along with its distinctive eagle gargoyles near the top.\n",
            ", It has been featured prominently in many films, including Men in Black 3, Spider-Man, Armageddon, Two Weeks Notice and Independence Day.\n",
            ", The previous sale took place just before the 2008 financial meltdown led to a plunge in real estate prices.\n",
            ", Still there have been a number of high profile skyscrapers purchased for top dollar in recent years, including the Waldorf Astoria hotel, which Chinese firm Anbang Insurance purchased in 2016 for nearly $2 billion, and the Willis Tower in Chicago, which was formerly known as Sears Tower, once the world's tallest.\n",
            ", Blackstone Group (BX) bought it for $1.3 billion 2015.\n",
            ", The Chrysler Building was the headquarters of the American automaker until 1953, but it was named for and owned by Chrysler chief Walter Chrysler, not the company itself.\n",
            ", Walter Chrysler had set out to build the tallest building in the world, a competition at that time with another Manhattan skyscraper under construction at 40 Wall Street at the south end of Manhattan., He kept secret the plans for the spire that would grace the top of the building, building it inside the structure and out of view of the public until 40 Wall Street was complete.\n",
            ", Once the competitor could rise no higher, the spire of the Chrysler building was raised into view, giving it the title.]\n"
          ]
        }
      ]
    },
    {
      "cell_type": "code",
      "source": [
        "sentence_scores={}\n",
        "for sen in sentence_tokens:\n",
        "  for word in sen:\n",
        "    if word.text.lower() in word_frequencies.keys():\n",
        "      if sen not in sentence_scores.keys():\n",
        "        sentence_scores[sen]=word_frequencies[word.text.lower()]\n",
        "      else:\n",
        "        sentence_scores[sen]+=word_frequencies[word.text.lower()]\n",
        "sentence_scores"
      ],
      "metadata": {
        "colab": {
          "base_uri": "https://localhost:8080/"
        },
        "id": "T8A8qTieP2af",
        "outputId": "11effa53-fd70-4ccf-d110-10d8e58bc3f0"
      },
      "execution_count": 38,
      "outputs": [
        {
          "output_type": "execute_result",
          "data": {
            "text/plain": [
              "{The Chrysler Building, the famous art deco New York skyscraper, will be sold for a small fraction of its previous sales price.: 2.2727272727272725,\n",
              " The deal, first reported by The Real Deal, was for $150 million, according to a source familiar with the deal.: 1.9090909090909087,\n",
              " Mubadala, an Abu Dhabi investment fund, purchased 90% of the building for $800 million in 2008.: 2.2727272727272725,\n",
              " Real estate firm Tishman Speyer had owned the other 10%.: 0.9090909090909091,\n",
              " The buyer is RFR Holding, a New York real estate company.: 0.7272727272727273,\n",
              " Officials with Tishman and RFR did not immediately respond to a request for comments.: 0.36363636363636365,\n",
              " It's unclear when the deal will close.: 0.4545454545454546,\n",
              " The building sold fairly quickly after being publicly placed on the market only two months ago.: 1.8181818181818177,\n",
              " The sale was handled by CBRE Group.: 0.2727272727272727,\n",
              " The incentive to sell the building at such a huge loss was due to the soaring rent the owners pay to Cooper Union, a New York college, for the land under the building.: 2.9999999999999996,\n",
              " The rent is rising from $7.75 million last year to $32.5 million this year to $41 million in 2028.: 2.4545454545454546,\n",
              " Meantime, rents in the building itself are not rising nearly that fast.: 1.5454545454545454,\n",
              " While the building is an iconic landmark in the New York skyline, it is competing against newer office towers with large floor-to-ceiling windows and all the modern amenities.: 2.2727272727272716,\n",
              " Still the building is among the best known in the city, even to people who have never been to New York.: 1.4545454545454544,\n",
              " It is famous for its triangle-shaped, vaulted windows worked into the stylized crown, along with its distinctive eagle gargoyles near the top.: 1.2727272727272727,\n",
              " It has been featured prominently in many films, including Men in Black 3, Spider-Man, Armageddon, Two Weeks Notice and Independence Day.: 0.5454545454545454,\n",
              " The previous sale took place just before the 2008 financial meltdown led to a plunge in real estate prices.: 1.6363636363636362,\n",
              " Still there have been a number of high profile skyscrapers purchased for top dollar in recent years, including the Waldorf Astoria hotel, which Chinese firm Anbang Insurance purchased in 2016 for nearly $2 billion, and the Willis Tower in Chicago, which was formerly known as Sears Tower, once the world's tallest.: 2.7272727272727266,\n",
              " Blackstone Group (BX) bought it for $1.3 billion 2015.: 0.4545454545454546,\n",
              " The Chrysler Building was the headquarters of the American automaker until 1953, but it was named for and owned by Chrysler chief Walter Chrysler, not the company itself.: 1.818181818181818,\n",
              " Walter Chrysler had set out to build the tallest building in the world, a competition at that time with another Manhattan skyscraper under construction at 40 Wall Street at the south end of Manhattan.: 2.3636363636363633,\n",
              " He kept secret the plans for the spire that would grace the top of the building, building it inside the structure and out of view of the public until 40 Wall Street was complete.: 3.272727272727272,\n",
              " Once the competitor could rise no higher, the spire of the Chrysler building was raised into view, giving it the title.: 1.909090909090909}"
            ]
          },
          "metadata": {},
          "execution_count": 38
        }
      ]
    },
    {
      "cell_type": "code",
      "source": [
        "from heapq import nlargest"
      ],
      "metadata": {
        "id": "2DLNPYMTRaI2"
      },
      "execution_count": 39,
      "outputs": []
    },
    {
      "cell_type": "code",
      "source": [
        "select_len=int(len(sentence_tokens)*0.3)\n",
        "select_len"
      ],
      "metadata": {
        "colab": {
          "base_uri": "https://localhost:8080/"
        },
        "id": "vDTNFC8cRoMn",
        "outputId": "474205f3-928a-49ad-e9ad-21260e972f30"
      },
      "execution_count": 40,
      "outputs": [
        {
          "output_type": "execute_result",
          "data": {
            "text/plain": [
              "6"
            ]
          },
          "metadata": {},
          "execution_count": 40
        }
      ]
    },
    {
      "cell_type": "code",
      "source": [
        "summary=nlargest(select_len, sentence_scores, key=sentence_scores.get)\n",
        "summary"
      ],
      "metadata": {
        "colab": {
          "base_uri": "https://localhost:8080/"
        },
        "id": "jzlx9sDwRxeZ",
        "outputId": "f412b26c-4f25-4ea4-95fb-4486c0b8c808"
      },
      "execution_count": 41,
      "outputs": [
        {
          "output_type": "execute_result",
          "data": {
            "text/plain": [
              "[He kept secret the plans for the spire that would grace the top of the building, building it inside the structure and out of view of the public until 40 Wall Street was complete.,\n",
              " The incentive to sell the building at such a huge loss was due to the soaring rent the owners pay to Cooper Union, a New York college, for the land under the building.,\n",
              " Still there have been a number of high profile skyscrapers purchased for top dollar in recent years, including the Waldorf Astoria hotel, which Chinese firm Anbang Insurance purchased in 2016 for nearly $2 billion, and the Willis Tower in Chicago, which was formerly known as Sears Tower, once the world's tallest.,\n",
              " The rent is rising from $7.75 million last year to $32.5 million this year to $41 million in 2028.,\n",
              " Walter Chrysler had set out to build the tallest building in the world, a competition at that time with another Manhattan skyscraper under construction at 40 Wall Street at the south end of Manhattan.,\n",
              " The Chrysler Building, the famous art deco New York skyscraper, will be sold for a small fraction of its previous sales price.]"
            ]
          },
          "metadata": {},
          "execution_count": 41
        }
      ]
    },
    {
      "cell_type": "code",
      "source": [],
      "metadata": {
        "id": "Rnb-Iyc3R_gd"
      },
      "execution_count": null,
      "outputs": []
    }
  ]
}