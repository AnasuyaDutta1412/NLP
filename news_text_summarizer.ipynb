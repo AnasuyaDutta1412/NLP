{
  "nbformat": 4,
  "nbformat_minor": 0,
  "metadata": {
    "colab": {
      "provenance": [],
      "collapsed_sections": [],
      "authorship_tag": "ABX9TyPgbKpWw5OhhcvDTExJmbcn",
      "include_colab_link": true
    },
    "kernelspec": {
      "name": "python3",
      "display_name": "Python 3"
    },
    "language_info": {
      "name": "python"
    }
  },
  "cells": [
    {
      "cell_type": "markdown",
      "metadata": {
        "id": "view-in-github",
        "colab_type": "text"
      },
      "source": [
        "<a href=\"https://colab.research.google.com/github/AnasuyaDutta1412/NLP/blob/main/news_text_summarizer.ipynb\" target=\"_parent\"><img src=\"https://colab.research.google.com/assets/colab-badge.svg\" alt=\"Open In Colab\"/></a>"
      ]
    },
    {
      "cell_type": "code",
      "execution_count": 20,
      "metadata": {
        "id": "LuyPDYW5CMyx"
      },
      "outputs": [],
      "source": [
        "news_text=\"\"\"The Chrysler Building, the famous art deco New York skyscraper, will be sold for a small fraction of its previous sales price.\n",
        "The deal, first reported by The Real Deal, was for $150 million, according to a source familiar with the deal.\n",
        "Mubadala, an Abu Dhabi investment fund, purchased 90% of the building for $800 million in 2008.\n",
        "Real estate firm Tishman Speyer had owned the other 10%.\n",
        "The buyer is RFR Holding, a New York real estate company.\n",
        "Officials with Tishman and RFR did not immediately respond to a request for comments.\n",
        "It's unclear when the deal will close.\n",
        "The building sold fairly quickly after being publicly placed on the market only two months ago.\n",
        "The sale was handled by CBRE Group.\n",
        "The incentive to sell the building at such a huge loss was due to the soaring rent the owners pay to Cooper Union, a New York college, for the land under the building.\n",
        "The rent is rising from $7.75 million last year to $32.5 million this year to $41 million in 2028.\n",
        "Meantime, rents in the building itself are not rising nearly that fast.\n",
        "While the building is an iconic landmark in the New York skyline, it is competing against newer office towers with large floor-to-ceiling windows and all the modern amenities.\n",
        "Still the building is among the best known in the city, even to people who have never been to New York.\n",
        "It is famous for its triangle-shaped, vaulted windows worked into the stylized crown, along with its distinctive eagle gargoyles near the top.\n",
        "It has been featured prominently in many films, including Men in Black 3, Spider-Man, Armageddon, Two Weeks Notice and Independence Day.\n",
        "The previous sale took place just before the 2008 financial meltdown led to a plunge in real estate prices.\n",
        "Still there have been a number of high profile skyscrapers purchased for top dollar in recent years, including the Waldorf Astoria hotel, which Chinese firm Anbang Insurance purchased in 2016 for nearly $2 billion, and the Willis Tower in Chicago, which was formerly known as Sears Tower, once the world's tallest.\n",
        "Blackstone Group (BX) bought it for $1.3 billion 2015.\n",
        "The Chrysler Building was the headquarters of the American automaker until 1953, but it was named for and owned by Chrysler chief Walter Chrysler, not the company itself.\n",
        "Walter Chrysler had set out to build the tallest building in the world, a competition at that time with another Manhattan skyscraper under construction at 40 Wall Street at the south end of Manhattan. He kept secret the plans for the spire that would grace the top of the building, building it inside the structure and out of view of the public until 40 Wall Street was complete.\n",
        "Once the competitor could rise no higher, the spire of the Chrysler building was raised into view, giving it the title.\"\"\"\n"
      ]
    },
    {
      "cell_type": "markdown",
      "source": [
        "**TEXT SUMMARIZATION**\n",
        "\n",
        "\n",
        "*   Text cleaning\n",
        "*   Sentence Tokenization\n",
        "*   Word tokenization\n",
        "*   Word-freq table\n",
        "*   Summarization"
      ],
      "metadata": {
        "id": "J75lFOo3LpCF"
      }
    },
    {
      "cell_type": "code",
      "source": [
        "# !pip install -U spacy\n",
        "import spacy\n",
        "from spacy.lang.en.stop_words import STOP_WORDS\n",
        "from string import punctuation"
      ],
      "metadata": {
        "id": "ZyFwOE8HC_ES"
      },
      "execution_count": 8,
      "outputs": []
    },
    {
      "cell_type": "code",
      "source": [
        "stopwords=list(STOP_WORDS)\n",
        "stopwords"
      ],
      "metadata": {
        "colab": {
          "base_uri": "https://localhost:8080/"
        },
        "id": "oizeSmjRDC-q",
        "outputId": "e5720e15-8bd2-4fce-d1d3-cb9beef846bd"
      },
      "execution_count": 10,
      "outputs": [
        {
          "output_type": "execute_result",
          "data": {
            "text/plain": [
              "['formerly',\n",
              " 'name',\n",
              " 'should',\n",
              " 'sixty',\n",
              " 'then',\n",
              " 'what',\n",
              " 'besides',\n",
              " 'below',\n",
              " 'latter',\n",
              " 'we',\n",
              " 'thereupon',\n",
              " 'due',\n",
              " 'about',\n",
              " 'mostly',\n",
              " 'call',\n",
              " 'too',\n",
              " 'become',\n",
              " \"'d\",\n",
              " 'also',\n",
              " 'ca',\n",
              " 'nine',\n",
              " 'somewhere',\n",
              " 'hence',\n",
              " '‘m',\n",
              " 'its',\n",
              " 'amount',\n",
              " '‘re',\n",
              " 'somehow',\n",
              " 'less',\n",
              " 'third',\n",
              " 'onto',\n",
              " 'make',\n",
              " 'alone',\n",
              " 'next',\n",
              " 'sometime',\n",
              " 'everywhere',\n",
              " 'whenever',\n",
              " 'since',\n",
              " '‘s',\n",
              " 'becoming',\n",
              " 'often',\n",
              " 'himself',\n",
              " 'anyhow',\n",
              " 'made',\n",
              " 'how',\n",
              " \"'ll\",\n",
              " 'your',\n",
              " 'is',\n",
              " 'into',\n",
              " '’d',\n",
              " 'everyone',\n",
              " 'nobody',\n",
              " 'being',\n",
              " 'whence',\n",
              " 'by',\n",
              " 'wherever',\n",
              " 'anyway',\n",
              " 'when',\n",
              " 'across',\n",
              " 'who',\n",
              " 'meanwhile',\n",
              " 'six',\n",
              " 'give',\n",
              " 'per',\n",
              " 'amongst',\n",
              " 'did',\n",
              " 'only',\n",
              " 'latterly',\n",
              " 'cannot',\n",
              " 'noone',\n",
              " 'those',\n",
              " \"'ve\",\n",
              " 'wherein',\n",
              " 'unless',\n",
              " 'except',\n",
              " 'any',\n",
              " 'thereby',\n",
              " 'quite',\n",
              " 'out',\n",
              " 'hereby',\n",
              " 'themselves',\n",
              " 'with',\n",
              " 'here',\n",
              " 'over',\n",
              " 'down',\n",
              " 'get',\n",
              " 'none',\n",
              " '’s',\n",
              " 'while',\n",
              " 'that',\n",
              " '’m',\n",
              " 'herein',\n",
              " 'else',\n",
              " 'without',\n",
              " 'top',\n",
              " 'something',\n",
              " 'eight',\n",
              " 'than',\n",
              " 'him',\n",
              " 'take',\n",
              " 'nothing',\n",
              " 'therein',\n",
              " 'one',\n",
              " 'nowhere',\n",
              " 'bottom',\n",
              " 'whereafter',\n",
              " 'must',\n",
              " 'became',\n",
              " 'another',\n",
              " 'towards',\n",
              " 'such',\n",
              " 'moreover',\n",
              " 'where',\n",
              " 'see',\n",
              " 'full',\n",
              " 'hers',\n",
              " 'anything',\n",
              " 'via',\n",
              " 'itself',\n",
              " 'rather',\n",
              " 'ourselves',\n",
              " 'back',\n",
              " 'last',\n",
              " 'beyond',\n",
              " 'show',\n",
              " 'our',\n",
              " 'seeming',\n",
              " 'afterwards',\n",
              " 'mine',\n",
              " 'five',\n",
              " 'others',\n",
              " 'eleven',\n",
              " 'former',\n",
              " 'us',\n",
              " 'very',\n",
              " 'a',\n",
              " 'three',\n",
              " 'move',\n",
              " \"'m\",\n",
              " 'though',\n",
              " 'using',\n",
              " 'they',\n",
              " 'their',\n",
              " 'nevertheless',\n",
              " 'two',\n",
              " 'go',\n",
              " 'might',\n",
              " 'hundred',\n",
              " 'along',\n",
              " 'otherwise',\n",
              " 'off',\n",
              " \"'re\",\n",
              " 'am',\n",
              " 'neither',\n",
              " 'do',\n",
              " 'been',\n",
              " 'yourself',\n",
              " 'could',\n",
              " 'done',\n",
              " 'twelve',\n",
              " 'further',\n",
              " 'together',\n",
              " 'which',\n",
              " 'all',\n",
              " 'some',\n",
              " '‘ll',\n",
              " 'at',\n",
              " 'beforehand',\n",
              " 'i',\n",
              " 'so',\n",
              " 'herself',\n",
              " 'most',\n",
              " '’re',\n",
              " 'the',\n",
              " 'put',\n",
              " 'always',\n",
              " '‘d',\n",
              " 'ten',\n",
              " 'other',\n",
              " 'although',\n",
              " 'never',\n",
              " 'if',\n",
              " 'please',\n",
              " 'were',\n",
              " 'each',\n",
              " 'would',\n",
              " 'can',\n",
              " 'more',\n",
              " 'still',\n",
              " 're',\n",
              " 'least',\n",
              " 'them',\n",
              " 'in',\n",
              " 'hereafter',\n",
              " 'part',\n",
              " '’ll',\n",
              " 'an',\n",
              " 'just',\n",
              " 'there',\n",
              " 'n’t',\n",
              " 'does',\n",
              " 'anyone',\n",
              " 'as',\n",
              " 'empty',\n",
              " 'he',\n",
              " 'whither',\n",
              " 'thus',\n",
              " 'whereupon',\n",
              " 'keep',\n",
              " 'to',\n",
              " 'thence',\n",
              " 'has',\n",
              " \"n't\",\n",
              " 'both',\n",
              " 'upon',\n",
              " 'becomes',\n",
              " 'will',\n",
              " 'ever',\n",
              " 'ours',\n",
              " '’ve',\n",
              " 'thereafter',\n",
              " 'you',\n",
              " \"'s\",\n",
              " 'are',\n",
              " 'for',\n",
              " 'whole',\n",
              " 'indeed',\n",
              " 'hereupon',\n",
              " 'whoever',\n",
              " 'seem',\n",
              " 'doing',\n",
              " 'around',\n",
              " 'because',\n",
              " 'after',\n",
              " 'namely',\n",
              " 'among',\n",
              " 'above',\n",
              " 'really',\n",
              " 'twenty',\n",
              " 'first',\n",
              " 'against',\n",
              " 'under',\n",
              " 'now',\n",
              " 'front',\n",
              " 'her',\n",
              " 'and',\n",
              " 'whom',\n",
              " 'until',\n",
              " 'during',\n",
              " 'myself',\n",
              " 'no',\n",
              " 'regarding',\n",
              " 'before',\n",
              " 'anywhere',\n",
              " 'behind',\n",
              " 'toward',\n",
              " 'may',\n",
              " 'already',\n",
              " 'even',\n",
              " 'forty',\n",
              " 'many',\n",
              " 'sometimes',\n",
              " 'on',\n",
              " 'be',\n",
              " 'but',\n",
              " 'someone',\n",
              " 'these',\n",
              " 'again',\n",
              " 'this',\n",
              " 'once',\n",
              " 'it',\n",
              " 'four',\n",
              " 'seems',\n",
              " 'between',\n",
              " 'n‘t',\n",
              " 'have',\n",
              " 'up',\n",
              " 'my',\n",
              " 'nor',\n",
              " 'from',\n",
              " 'his',\n",
              " 'through',\n",
              " 'say',\n",
              " 'not',\n",
              " 'serious',\n",
              " 'few',\n",
              " 'whereas',\n",
              " 'almost',\n",
              " 'same',\n",
              " 'elsewhere',\n",
              " 'or',\n",
              " 'she',\n",
              " 'throughout',\n",
              " 'yourselves',\n",
              " 'yet',\n",
              " 'thru',\n",
              " 'within',\n",
              " 'was',\n",
              " 'of',\n",
              " 'much',\n",
              " 'beside',\n",
              " 'therefore',\n",
              " 'several',\n",
              " 'me',\n",
              " 'why',\n",
              " 'whereby',\n",
              " 'whatever',\n",
              " 'various',\n",
              " 'enough',\n",
              " 'fifty',\n",
              " 'own',\n",
              " 'whether',\n",
              " 'every',\n",
              " 'whose',\n",
              " 'either',\n",
              " 'well',\n",
              " 'yours',\n",
              " 'had',\n",
              " '‘ve',\n",
              " 'used',\n",
              " 'however',\n",
              " 'perhaps',\n",
              " 'side',\n",
              " 'everything',\n",
              " 'fifteen',\n",
              " 'seemed']"
            ]
          },
          "metadata": {},
          "execution_count": 10
        }
      ]
    },
    {
      "cell_type": "code",
      "source": [
        "nlp=spacy.load('en_core_web_sm')\n",
        "nlp"
      ],
      "metadata": {
        "colab": {
          "base_uri": "https://localhost:8080/"
        },
        "id": "pJ5J5dNNEkbf",
        "outputId": "7c0b70eb-3419-4163-a70e-7bca2cb15365"
      },
      "execution_count": 23,
      "outputs": [
        {
          "output_type": "execute_result",
          "data": {
            "text/plain": [
              "<spacy.lang.en.English at 0x7f2d33594850>"
            ]
          },
          "metadata": {},
          "execution_count": 23
        }
      ]
    },
    {
      "cell_type": "code",
      "source": [
        "doc=nlp(news_text)    "
      ],
      "metadata": {
        "id": "rjPjCfJdHMG8"
      },
      "execution_count": 24,
      "outputs": []
    },
    {
      "cell_type": "code",
      "source": [
        "tokens=[token.text for token in doc]\n",
        "print(tokens)"
      ],
      "metadata": {
        "colab": {
          "base_uri": "https://localhost:8080/"
        },
        "id": "snQCTwPXHUuO",
        "outputId": "d7c8e913-6811-4211-f21c-a4e8929bf5e6"
      },
      "execution_count": 25,
      "outputs": [
        {
          "output_type": "stream",
          "name": "stdout",
          "text": [
            "['The', 'Chrysler', 'Building', ',', 'the', 'famous', 'art', 'deco', 'New', 'York', 'skyscraper', ',', 'will', 'be', 'sold', 'for', 'a', 'small', 'fraction', 'of', 'its', 'previous', 'sales', 'price', '.', '\\n', 'The', 'deal', ',', 'first', 'reported', 'by', 'The', 'Real', 'Deal', ',', 'was', 'for', '$', '150', 'million', ',', 'according', 'to', 'a', 'source', 'familiar', 'with', 'the', 'deal', '.', '\\n', 'Mubadala', ',', 'an', 'Abu', 'Dhabi', 'investment', 'fund', ',', 'purchased', '90', '%', 'of', 'the', 'building', 'for', '$', '800', 'million', 'in', '2008', '.', '\\n', 'Real', 'estate', 'firm', 'Tishman', 'Speyer', 'had', 'owned', 'the', 'other', '10', '%', '.', '\\n', 'The', 'buyer', 'is', 'RFR', 'Holding', ',', 'a', 'New', 'York', 'real', 'estate', 'company', '.', '\\n', 'Officials', 'with', 'Tishman', 'and', 'RFR', 'did', 'not', 'immediately', 'respond', 'to', 'a', 'request', 'for', 'comments', '.', '\\n', 'It', \"'s\", 'unclear', 'when', 'the', 'deal', 'will', 'close', '.', '\\n', 'The', 'building', 'sold', 'fairly', 'quickly', 'after', 'being', 'publicly', 'placed', 'on', 'the', 'market', 'only', 'two', 'months', 'ago', '.', '\\n', 'The', 'sale', 'was', 'handled', 'by', 'CBRE', 'Group', '.', '\\n', 'The', 'incentive', 'to', 'sell', 'the', 'building', 'at', 'such', 'a', 'huge', 'loss', 'was', 'due', 'to', 'the', 'soaring', 'rent', 'the', 'owners', 'pay', 'to', 'Cooper', 'Union', ',', 'a', 'New', 'York', 'college', ',', 'for', 'the', 'land', 'under', 'the', 'building', '.', '\\n', 'The', 'rent', 'is', 'rising', 'from', '$', '7.75', 'million', 'last', 'year', 'to', '$', '32.5', 'million', 'this', 'year', 'to', '$', '41', 'million', 'in', '2028', '.', '\\n', 'Meantime', ',', 'rents', 'in', 'the', 'building', 'itself', 'are', 'not', 'rising', 'nearly', 'that', 'fast', '.', '\\n', 'While', 'the', 'building', 'is', 'an', 'iconic', 'landmark', 'in', 'the', 'New', 'York', 'skyline', ',', 'it', 'is', 'competing', 'against', 'newer', 'office', 'towers', 'with', 'large', 'floor', '-', 'to', '-', 'ceiling', 'windows', 'and', 'all', 'the', 'modern', 'amenities', '.', '\\n', 'Still', 'the', 'building', 'is', 'among', 'the', 'best', 'known', 'in', 'the', 'city', ',', 'even', 'to', 'people', 'who', 'have', 'never', 'been', 'to', 'New', 'York', '.', '\\n', 'It', 'is', 'famous', 'for', 'its', 'triangle', '-', 'shaped', ',', 'vaulted', 'windows', 'worked', 'into', 'the', 'stylized', 'crown', ',', 'along', 'with', 'its', 'distinctive', 'eagle', 'gargoyles', 'near', 'the', 'top', '.', '\\n', 'It', 'has', 'been', 'featured', 'prominently', 'in', 'many', 'films', ',', 'including', 'Men', 'in', 'Black', '3', ',', 'Spider', '-', 'Man', ',', 'Armageddon', ',', 'Two', 'Weeks', 'Notice', 'and', 'Independence', 'Day', '.', '\\n', 'The', 'previous', 'sale', 'took', 'place', 'just', 'before', 'the', '2008', 'financial', 'meltdown', 'led', 'to', 'a', 'plunge', 'in', 'real', 'estate', 'prices', '.', '\\n', 'Still', 'there', 'have', 'been', 'a', 'number', 'of', 'high', 'profile', 'skyscrapers', 'purchased', 'for', 'top', 'dollar', 'in', 'recent', 'years', ',', 'including', 'the', 'Waldorf', 'Astoria', 'hotel', ',', 'which', 'Chinese', 'firm', 'Anbang', 'Insurance', 'purchased', 'in', '2016', 'for', 'nearly', '$', '2', 'billion', ',', 'and', 'the', 'Willis', 'Tower', 'in', 'Chicago', ',', 'which', 'was', 'formerly', 'known', 'as', 'Sears', 'Tower', ',', 'once', 'the', 'world', \"'s\", 'tallest', '.', '\\n', 'Blackstone', 'Group', '(', 'BX', ')', 'bought', 'it', 'for', '$', '1.3', 'billion', '2015', '.', '\\n', 'The', 'Chrysler', 'Building', 'was', 'the', 'headquarters', 'of', 'the', 'American', 'automaker', 'until', '1953', ',', 'but', 'it', 'was', 'named', 'for', 'and', 'owned', 'by', 'Chrysler', 'chief', 'Walter', 'Chrysler', ',', 'not', 'the', 'company', 'itself', '.', '\\n', 'Walter', 'Chrysler', 'had', 'set', 'out', 'to', 'build', 'the', 'tallest', 'building', 'in', 'the', 'world', ',', 'a', 'competition', 'at', 'that', 'time', 'with', 'another', 'Manhattan', 'skyscraper', 'under', 'construction', 'at', '40', 'Wall', 'Street', 'at', 'the', 'south', 'end', 'of', 'Manhattan', '.', 'He', 'kept', 'secret', 'the', 'plans', 'for', 'the', 'spire', 'that', 'would', 'grace', 'the', 'top', 'of', 'the', 'building', ',', 'building', 'it', 'inside', 'the', 'structure', 'and', 'out', 'of', 'view', 'of', 'the', 'public', 'until', '40', 'Wall', 'Street', 'was', 'complete', '.', '\\n', 'Once', 'the', 'competitor', 'could', 'rise', 'no', 'higher', ',', 'the', 'spire', 'of', 'the', 'Chrysler', 'building', 'was', 'raised', 'into', 'view', ',', 'giving', 'it', 'the', 'title', '.']\n"
          ]
        }
      ]
    },
    {
      "cell_type": "code",
      "source": [
        "punctuation=punctuation + '\\n'\n",
        "punctuation"
      ],
      "metadata": {
        "colab": {
          "base_uri": "https://localhost:8080/",
          "height": 36
        },
        "id": "1q37L7i_HX51",
        "outputId": "64eed05f-dc33-4816-c41d-c569bd490916"
      },
      "execution_count": 27,
      "outputs": [
        {
          "output_type": "execute_result",
          "data": {
            "text/plain": [
              "'!\"#$%&\\'()*+,-./:;<=>?@[\\\\]^_`{|}~\\n'"
            ],
            "application/vnd.google.colaboratory.intrinsic+json": {
              "type": "string"
            }
          },
          "metadata": {},
          "execution_count": 27
        }
      ]
    },
    {
      "cell_type": "code",
      "source": [
        "word_frequencies={}\n",
        "for word in doc:\n",
        "  if word.text.lower() not in stopwords:\n",
        "    if word.text.lower() not in punctuation:\n",
        "      if word.text not in word_frequencies.keys():\n",
        "        word_frequencies[word.text]=1\n",
        "      else:\n",
        "        word_frequencies[word.text]+=1\n"
      ],
      "metadata": {
        "id": "WLA90AQeKzwq"
      },
      "execution_count": 29,
      "outputs": []
    },
    {
      "cell_type": "code",
      "source": [
        "print(word_frequencies)"
      ],
      "metadata": {
        "colab": {
          "base_uri": "https://localhost:8080/"
        },
        "id": "jXHt5huKNVKg",
        "outputId": "27f98b8f-e4d3-4bb1-966c-851224458577"
      },
      "execution_count": 31,
      "outputs": [
        {
          "output_type": "stream",
          "name": "stdout",
          "text": [
            "{'Chrysler': 6, 'Building': 2, 'famous': 2, 'art': 1, 'deco': 1, 'New': 5, 'York': 5, 'skyscraper': 2, 'sold': 2, 'small': 1, 'fraction': 1, 'previous': 2, 'sales': 1, 'price': 1, 'deal': 3, 'reported': 1, 'Real': 2, 'Deal': 1, '150': 1, 'million': 5, 'according': 1, 'source': 1, 'familiar': 1, 'Mubadala': 1, 'Abu': 1, 'Dhabi': 1, 'investment': 1, 'fund': 1, 'purchased': 3, '90': 1, 'building': 11, '800': 1, '2008': 2, 'estate': 3, 'firm': 2, 'Tishman': 2, 'Speyer': 1, 'owned': 2, '10': 1, 'buyer': 1, 'RFR': 2, 'Holding': 1, 'real': 2, 'company': 2, 'Officials': 1, 'immediately': 1, 'respond': 1, 'request': 1, 'comments': 1, 'unclear': 1, 'close': 1, 'fairly': 1, 'quickly': 1, 'publicly': 1, 'placed': 1, 'market': 1, 'months': 1, 'ago': 1, 'sale': 2, 'handled': 1, 'CBRE': 1, 'Group': 2, 'incentive': 1, 'sell': 1, 'huge': 1, 'loss': 1, 'soaring': 1, 'rent': 2, 'owners': 1, 'pay': 1, 'Cooper': 1, 'Union': 1, 'college': 1, 'land': 1, 'rising': 2, '7.75': 1, 'year': 2, '32.5': 1, '41': 1, '2028': 1, 'Meantime': 1, 'rents': 1, 'nearly': 2, 'fast': 1, 'iconic': 1, 'landmark': 1, 'skyline': 1, 'competing': 1, 'newer': 1, 'office': 1, 'towers': 1, 'large': 1, 'floor': 1, 'ceiling': 1, 'windows': 2, 'modern': 1, 'amenities': 1, 'best': 1, 'known': 2, 'city': 1, 'people': 1, 'triangle': 1, 'shaped': 1, 'vaulted': 1, 'worked': 1, 'stylized': 1, 'crown': 1, 'distinctive': 1, 'eagle': 1, 'gargoyles': 1, 'near': 1, 'featured': 1, 'prominently': 1, 'films': 1, 'including': 2, 'Men': 1, 'Black': 1, '3': 1, 'Spider': 1, 'Man': 1, 'Armageddon': 1, 'Weeks': 1, 'Notice': 1, 'Independence': 1, 'Day': 1, 'took': 1, 'place': 1, 'financial': 1, 'meltdown': 1, 'led': 1, 'plunge': 1, 'prices': 1, 'number': 1, 'high': 1, 'profile': 1, 'skyscrapers': 1, 'dollar': 1, 'recent': 1, 'years': 1, 'Waldorf': 1, 'Astoria': 1, 'hotel': 1, 'Chinese': 1, 'Anbang': 1, 'Insurance': 1, '2016': 1, '2': 1, 'billion': 2, 'Willis': 1, 'Tower': 2, 'Chicago': 1, 'Sears': 1, 'world': 2, 'tallest': 2, 'Blackstone': 1, 'BX': 1, 'bought': 1, '1.3': 1, '2015': 1, 'headquarters': 1, 'American': 1, 'automaker': 1, '1953': 1, 'named': 1, 'chief': 1, 'Walter': 2, 'set': 1, 'build': 1, 'competition': 1, 'time': 1, 'Manhattan': 2, 'construction': 1, '40': 2, 'Wall': 2, 'Street': 2, 'south': 1, 'end': 1, 'kept': 1, 'secret': 1, 'plans': 1, 'spire': 2, 'grace': 1, 'inside': 1, 'structure': 1, 'view': 2, 'public': 1, 'complete': 1, 'competitor': 1, 'rise': 1, 'higher': 1, 'raised': 1, 'giving': 1, 'title': 1}\n"
          ]
        }
      ]
    },
    {
      "cell_type": "code",
      "source": [
        "max_frequency=max(word_frequencies.values())\n",
        "max_frequency"
      ],
      "metadata": {
        "colab": {
          "base_uri": "https://localhost:8080/"
        },
        "id": "BmDISwCTNZpd",
        "outputId": "20364f2a-a27b-4e45-eac2-2de7f91aed6f"
      },
      "execution_count": 32,
      "outputs": [
        {
          "output_type": "execute_result",
          "data": {
            "text/plain": [
              "11"
            ]
          },
          "metadata": {},
          "execution_count": 32
        }
      ]
    },
    {
      "cell_type": "code",
      "source": [
        "for word in word_frequencies.keys():\n",
        "  word_frequencies[word]=word_frequencies[word]/max_frequency\n",
        "print(word_frequencies)"
      ],
      "metadata": {
        "colab": {
          "base_uri": "https://localhost:8080/"
        },
        "id": "HgaDSt6eNpcV",
        "outputId": "d427c556-40ce-41d0-d466-cd6efee19f2d"
      },
      "execution_count": 34,
      "outputs": [
        {
          "output_type": "stream",
          "name": "stdout",
          "text": [
            "{'Chrysler': 0.5454545454545454, 'Building': 0.18181818181818182, 'famous': 0.18181818181818182, 'art': 0.09090909090909091, 'deco': 0.09090909090909091, 'New': 0.45454545454545453, 'York': 0.45454545454545453, 'skyscraper': 0.18181818181818182, 'sold': 0.18181818181818182, 'small': 0.09090909090909091, 'fraction': 0.09090909090909091, 'previous': 0.18181818181818182, 'sales': 0.09090909090909091, 'price': 0.09090909090909091, 'deal': 0.2727272727272727, 'reported': 0.09090909090909091, 'Real': 0.18181818181818182, 'Deal': 0.09090909090909091, '150': 0.09090909090909091, 'million': 0.45454545454545453, 'according': 0.09090909090909091, 'source': 0.09090909090909091, 'familiar': 0.09090909090909091, 'Mubadala': 0.09090909090909091, 'Abu': 0.09090909090909091, 'Dhabi': 0.09090909090909091, 'investment': 0.09090909090909091, 'fund': 0.09090909090909091, 'purchased': 0.2727272727272727, '90': 0.09090909090909091, 'building': 1.0, '800': 0.09090909090909091, '2008': 0.18181818181818182, 'estate': 0.2727272727272727, 'firm': 0.18181818181818182, 'Tishman': 0.18181818181818182, 'Speyer': 0.09090909090909091, 'owned': 0.18181818181818182, '10': 0.09090909090909091, 'buyer': 0.09090909090909091, 'RFR': 0.18181818181818182, 'Holding': 0.09090909090909091, 'real': 0.18181818181818182, 'company': 0.18181818181818182, 'Officials': 0.09090909090909091, 'immediately': 0.09090909090909091, 'respond': 0.09090909090909091, 'request': 0.09090909090909091, 'comments': 0.09090909090909091, 'unclear': 0.09090909090909091, 'close': 0.09090909090909091, 'fairly': 0.09090909090909091, 'quickly': 0.09090909090909091, 'publicly': 0.09090909090909091, 'placed': 0.09090909090909091, 'market': 0.09090909090909091, 'months': 0.09090909090909091, 'ago': 0.09090909090909091, 'sale': 0.18181818181818182, 'handled': 0.09090909090909091, 'CBRE': 0.09090909090909091, 'Group': 0.18181818181818182, 'incentive': 0.09090909090909091, 'sell': 0.09090909090909091, 'huge': 0.09090909090909091, 'loss': 0.09090909090909091, 'soaring': 0.09090909090909091, 'rent': 0.18181818181818182, 'owners': 0.09090909090909091, 'pay': 0.09090909090909091, 'Cooper': 0.09090909090909091, 'Union': 0.09090909090909091, 'college': 0.09090909090909091, 'land': 0.09090909090909091, 'rising': 0.18181818181818182, '7.75': 0.09090909090909091, 'year': 0.18181818181818182, '32.5': 0.09090909090909091, '41': 0.09090909090909091, '2028': 0.09090909090909091, 'Meantime': 0.09090909090909091, 'rents': 0.09090909090909091, 'nearly': 0.18181818181818182, 'fast': 0.09090909090909091, 'iconic': 0.09090909090909091, 'landmark': 0.09090909090909091, 'skyline': 0.09090909090909091, 'competing': 0.09090909090909091, 'newer': 0.09090909090909091, 'office': 0.09090909090909091, 'towers': 0.09090909090909091, 'large': 0.09090909090909091, 'floor': 0.09090909090909091, 'ceiling': 0.09090909090909091, 'windows': 0.18181818181818182, 'modern': 0.09090909090909091, 'amenities': 0.09090909090909091, 'best': 0.09090909090909091, 'known': 0.18181818181818182, 'city': 0.09090909090909091, 'people': 0.09090909090909091, 'triangle': 0.09090909090909091, 'shaped': 0.09090909090909091, 'vaulted': 0.09090909090909091, 'worked': 0.09090909090909091, 'stylized': 0.09090909090909091, 'crown': 0.09090909090909091, 'distinctive': 0.09090909090909091, 'eagle': 0.09090909090909091, 'gargoyles': 0.09090909090909091, 'near': 0.09090909090909091, 'featured': 0.09090909090909091, 'prominently': 0.09090909090909091, 'films': 0.09090909090909091, 'including': 0.18181818181818182, 'Men': 0.09090909090909091, 'Black': 0.09090909090909091, '3': 0.09090909090909091, 'Spider': 0.09090909090909091, 'Man': 0.09090909090909091, 'Armageddon': 0.09090909090909091, 'Weeks': 0.09090909090909091, 'Notice': 0.09090909090909091, 'Independence': 0.09090909090909091, 'Day': 0.09090909090909091, 'took': 0.09090909090909091, 'place': 0.09090909090909091, 'financial': 0.09090909090909091, 'meltdown': 0.09090909090909091, 'led': 0.09090909090909091, 'plunge': 0.09090909090909091, 'prices': 0.09090909090909091, 'number': 0.09090909090909091, 'high': 0.09090909090909091, 'profile': 0.09090909090909091, 'skyscrapers': 0.09090909090909091, 'dollar': 0.09090909090909091, 'recent': 0.09090909090909091, 'years': 0.09090909090909091, 'Waldorf': 0.09090909090909091, 'Astoria': 0.09090909090909091, 'hotel': 0.09090909090909091, 'Chinese': 0.09090909090909091, 'Anbang': 0.09090909090909091, 'Insurance': 0.09090909090909091, '2016': 0.09090909090909091, '2': 0.09090909090909091, 'billion': 0.18181818181818182, 'Willis': 0.09090909090909091, 'Tower': 0.18181818181818182, 'Chicago': 0.09090909090909091, 'Sears': 0.09090909090909091, 'world': 0.18181818181818182, 'tallest': 0.18181818181818182, 'Blackstone': 0.09090909090909091, 'BX': 0.09090909090909091, 'bought': 0.09090909090909091, '1.3': 0.09090909090909091, '2015': 0.09090909090909091, 'headquarters': 0.09090909090909091, 'American': 0.09090909090909091, 'automaker': 0.09090909090909091, '1953': 0.09090909090909091, 'named': 0.09090909090909091, 'chief': 0.09090909090909091, 'Walter': 0.18181818181818182, 'set': 0.09090909090909091, 'build': 0.09090909090909091, 'competition': 0.09090909090909091, 'time': 0.09090909090909091, 'Manhattan': 0.18181818181818182, 'construction': 0.09090909090909091, '40': 0.18181818181818182, 'Wall': 0.18181818181818182, 'Street': 0.18181818181818182, 'south': 0.09090909090909091, 'end': 0.09090909090909091, 'kept': 0.09090909090909091, 'secret': 0.09090909090909091, 'plans': 0.09090909090909091, 'spire': 0.18181818181818182, 'grace': 0.09090909090909091, 'inside': 0.09090909090909091, 'structure': 0.09090909090909091, 'view': 0.18181818181818182, 'public': 0.09090909090909091, 'complete': 0.09090909090909091, 'competitor': 0.09090909090909091, 'rise': 0.09090909090909091, 'higher': 0.09090909090909091, 'raised': 0.09090909090909091, 'giving': 0.09090909090909091, 'title': 0.09090909090909091}\n"
          ]
        }
      ]
    },
    {
      "cell_type": "code",
      "source": [
        "sentence_tokens=[sen for sen in doc.sents]\n",
        "print(sentence_tokens)"
      ],
      "metadata": {
        "colab": {
          "base_uri": "https://localhost:8080/"
        },
        "id": "ExQs7hXZPKsd",
        "outputId": "0daf7293-c5db-4416-e9a7-b7282933e639"
      },
      "execution_count": 37,
      "outputs": [
        {
          "output_type": "stream",
          "name": "stdout",
          "text": [
            "[The Chrysler Building, the famous art deco New York skyscraper, will be sold for a small fraction of its previous sales price.\n",
            ", The deal, first reported by The Real Deal, was for $150 million, according to a source familiar with the deal.\n",
            ", Mubadala, an Abu Dhabi investment fund, purchased 90% of the building for $800 million in 2008.\n",
            ", Real estate firm Tishman Speyer had owned the other 10%.\n",
            ", The buyer is RFR Holding, a New York real estate company.\n",
            ", Officials with Tishman and RFR did not immediately respond to a request for comments.\n",
            ", It's unclear when the deal will close.\n",
            ", The building sold fairly quickly after being publicly placed on the market only two months ago.\n",
            ", The sale was handled by CBRE Group.\n",
            ", The incentive to sell the building at such a huge loss was due to the soaring rent the owners pay to Cooper Union, a New York college, for the land under the building.\n",
            ", The rent is rising from $7.75 million last year to $32.5 million this year to $41 million in 2028.\n",
            ", Meantime, rents in the building itself are not rising nearly that fast.\n",
            ", While the building is an iconic landmark in the New York skyline, it is competing against newer office towers with large floor-to-ceiling windows and all the modern amenities.\n",
            ", Still the building is among the best known in the city, even to people who have never been to New York.\n",
            ", It is famous for its triangle-shaped, vaulted windows worked into the stylized crown, along with its distinctive eagle gargoyles near the top.\n",
            ", It has been featured prominently in many films, including Men in Black 3, Spider-Man, Armageddon, Two Weeks Notice and Independence Day.\n",
            ", The previous sale took place just before the 2008 financial meltdown led to a plunge in real estate prices.\n",
            ", Still there have been a number of high profile skyscrapers purchased for top dollar in recent years, including the Waldorf Astoria hotel, which Chinese firm Anbang Insurance purchased in 2016 for nearly $2 billion, and the Willis Tower in Chicago, which was formerly known as Sears Tower, once the world's tallest.\n",
            ", Blackstone Group (BX) bought it for $1.3 billion 2015.\n",
            ", The Chrysler Building was the headquarters of the American automaker until 1953, but it was named for and owned by Chrysler chief Walter Chrysler, not the company itself.\n",
            ", Walter Chrysler had set out to build the tallest building in the world, a competition at that time with another Manhattan skyscraper under construction at 40 Wall Street at the south end of Manhattan., He kept secret the plans for the spire that would grace the top of the building, building it inside the structure and out of view of the public until 40 Wall Street was complete.\n",
            ", Once the competitor could rise no higher, the spire of the Chrysler building was raised into view, giving it the title.]\n"
          ]
        }
      ]
    },
    {
      "cell_type": "code",
      "source": [
        "sentence_scores={}\n",
        "for sen in sentence_tokens:\n",
        "  for word in sen:\n",
        "    if word.text.lower() in word_frequencies.keys():\n",
        "      if sen not in sentence_scores.keys():\n",
        "        sentence_scores[sen]=word_frequencies[word.text.lower()]\n",
        "      else:\n",
        "        sentence_scores[sen]+=word_frequencies[word.text.lower()]\n",
        "sentence_scores"
      ],
      "metadata": {
        "colab": {
          "base_uri": "https://localhost:8080/"
        },
        "id": "T8A8qTieP2af",
        "outputId": "11effa53-fd70-4ccf-d110-10d8e58bc3f0"
      },
      "execution_count": 38,
      "outputs": [
        {
          "output_type": "execute_result",
          "data": {
            "text/plain": [
              "{The Chrysler Building, the famous art deco New York skyscraper, will be sold for a small fraction of its previous sales price.: 2.2727272727272725,\n",
              " The deal, first reported by The Real Deal, was for $150 million, according to a source familiar with the deal.: 1.9090909090909087,\n",
              " Mubadala, an Abu Dhabi investment fund, purchased 90% of the building for $800 million in 2008.: 2.2727272727272725,\n",
              " Real estate firm Tishman Speyer had owned the other 10%.: 0.9090909090909091,\n",
              " The buyer is RFR Holding, a New York real estate company.: 0.7272727272727273,\n",
              " Officials with Tishman and RFR did not immediately respond to a request for comments.: 0.36363636363636365,\n",
              " It's unclear when the deal will close.: 0.4545454545454546,\n",
              " The building sold fairly quickly after being publicly placed on the market only two months ago.: 1.8181818181818177,\n",
              " The sale was handled by CBRE Group.: 0.2727272727272727,\n",
              " The incentive to sell the building at such a huge loss was due to the soaring rent the owners pay to Cooper Union, a New York college, for the land under the building.: 2.9999999999999996,\n",
              " The rent is rising from $7.75 million last year to $32.5 million this year to $41 million in 2028.: 2.4545454545454546,\n",
              " Meantime, rents in the building itself are not rising nearly that fast.: 1.5454545454545454,\n",
              " While the building is an iconic landmark in the New York skyline, it is competing against newer office towers with large floor-to-ceiling windows and all the modern amenities.: 2.2727272727272716,\n",
              " Still the building is among the best known in the city, even to people who have never been to New York.: 1.4545454545454544,\n",
              " It is famous for its triangle-shaped, vaulted windows worked into the stylized crown, along with its distinctive eagle gargoyles near the top.: 1.2727272727272727,\n",
              " It has been featured prominently in many films, including Men in Black 3, Spider-Man, Armageddon, Two Weeks Notice and Independence Day.: 0.5454545454545454,\n",
              " The previous sale took place just before the 2008 financial meltdown led to a plunge in real estate prices.: 1.6363636363636362,\n",
              " Still there have been a number of high profile skyscrapers purchased for top dollar in recent years, including the Waldorf Astoria hotel, which Chinese firm Anbang Insurance purchased in 2016 for nearly $2 billion, and the Willis Tower in Chicago, which was formerly known as Sears Tower, once the world's tallest.: 2.7272727272727266,\n",
              " Blackstone Group (BX) bought it for $1.3 billion 2015.: 0.4545454545454546,\n",
              " The Chrysler Building was the headquarters of the American automaker until 1953, but it was named for and owned by Chrysler chief Walter Chrysler, not the company itself.: 1.818181818181818,\n",
              " Walter Chrysler had set out to build the tallest building in the world, a competition at that time with another Manhattan skyscraper under construction at 40 Wall Street at the south end of Manhattan.: 2.3636363636363633,\n",
              " He kept secret the plans for the spire that would grace the top of the building, building it inside the structure and out of view of the public until 40 Wall Street was complete.: 3.272727272727272,\n",
              " Once the competitor could rise no higher, the spire of the Chrysler building was raised into view, giving it the title.: 1.909090909090909}"
            ]
          },
          "metadata": {},
          "execution_count": 38
        }
      ]
    },
    {
      "cell_type": "code",
      "source": [
        "from heapq import nlargest"
      ],
      "metadata": {
        "id": "2DLNPYMTRaI2"
      },
      "execution_count": 39,
      "outputs": []
    },
    {
      "cell_type": "code",
      "source": [
        "select_len=int(len(sentence_tokens)*0.3)\n",
        "select_len"
      ],
      "metadata": {
        "colab": {
          "base_uri": "https://localhost:8080/"
        },
        "id": "vDTNFC8cRoMn",
        "outputId": "474205f3-928a-49ad-e9ad-21260e972f30"
      },
      "execution_count": 40,
      "outputs": [
        {
          "output_type": "execute_result",
          "data": {
            "text/plain": [
              "6"
            ]
          },
          "metadata": {},
          "execution_count": 40
        }
      ]
    },
    {
      "cell_type": "code",
      "source": [
        "summary=nlargest(select_len, sentence_scores, key=sentence_scores.get)\n",
        "summary"
      ],
      "metadata": {
        "colab": {
          "base_uri": "https://localhost:8080/"
        },
        "id": "jzlx9sDwRxeZ",
        "outputId": "f412b26c-4f25-4ea4-95fb-4486c0b8c808"
      },
      "execution_count": 41,
      "outputs": [
        {
          "output_type": "execute_result",
          "data": {
            "text/plain": [
              "[He kept secret the plans for the spire that would grace the top of the building, building it inside the structure and out of view of the public until 40 Wall Street was complete.,\n",
              " The incentive to sell the building at such a huge loss was due to the soaring rent the owners pay to Cooper Union, a New York college, for the land under the building.,\n",
              " Still there have been a number of high profile skyscrapers purchased for top dollar in recent years, including the Waldorf Astoria hotel, which Chinese firm Anbang Insurance purchased in 2016 for nearly $2 billion, and the Willis Tower in Chicago, which was formerly known as Sears Tower, once the world's tallest.,\n",
              " The rent is rising from $7.75 million last year to $32.5 million this year to $41 million in 2028.,\n",
              " Walter Chrysler had set out to build the tallest building in the world, a competition at that time with another Manhattan skyscraper under construction at 40 Wall Street at the south end of Manhattan.,\n",
              " The Chrysler Building, the famous art deco New York skyscraper, will be sold for a small fraction of its previous sales price.]"
            ]
          },
          "metadata": {},
          "execution_count": 41
        }
      ]
    }
  ]
}